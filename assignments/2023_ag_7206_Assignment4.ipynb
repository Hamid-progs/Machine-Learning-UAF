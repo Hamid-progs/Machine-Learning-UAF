{
 "cells": [
  {
   "cell_type": "markdown",
   "id": "37cb8399-c33d-44a7-86d3-5e9df2e543fc",
   "metadata": {},
   "source": [
    "# <center>ML ab Assignment</center>"
   ]
  },
  {
   "cell_type": "markdown",
   "id": "458c3c03-8574-4a55-a28a-a218c47afb93",
   "metadata": {},
   "source": [
    "## Q1: Apply following function in Dictionary data structure in python for following problem:\n",
    "1. items()\n",
    "2. keys()\n",
    "3. pop()\n",
    "4. popitem()\n",
    "5. values()\n",
    "6. update()\n",
    "## Implement nested to nested to nested dictionary.\n",
    "## Store all record in dictionary carefully than perform following functions:"
   ]
  },
  {
   "cell_type": "code",
   "execution_count": 1,
   "id": "052a75d1-1c2d-489d-a564-f2977034df95",
   "metadata": {},
   "outputs": [],
   "source": [
    "Shop = {'Electronic' : {'Laptop' : d{'Bran1':'Dell','Brand2':'HP','Brand3':'ASER','Brand4':'TOSHIBA'},\n",
    "                       'Mobile' : {'C1':'NOKIA','C2':'INFNIX','C3':'SAMSUNG','C4':'OPPO'}},\n",
    "        \n",
    "       'Makeup' : {'Foundations' : {'F1':'MISSROSE','F2':'HUDA BEAUTY','F3':'LOREAL','F4':'MAC'},\n",
    "                  'Lipstick' : {'L1' : 'MEDORA','L2' : 'HUDA BEAUTY','L3' : 'LOREAL','L4' : 'FLARMAR'}}}"
   ]
  },
  {
   "cell_type": "markdown",
   "id": "178259e5-29ff-43f5-92b9-2c0464d93efb",
   "metadata": {},
   "source": [
    "### ➢ Print all mobile and laptop types"
   ]
  },
  {
   "cell_type": "code",
   "execution_count": 2,
   "id": "eff073b9-2100-4b77-a3a8-79b1cb056f22",
   "metadata": {},
   "outputs": [
    {
     "name": "stdout",
     "output_type": "stream",
     "text": [
      "Mobile Types: \n",
      "dict_values(['NOKIA', 'INFNIX', 'SAMSUNG', 'OPPO'])\n",
      "\n",
      "Laptop Types: \n",
      "dict_values(['Dell', 'HP', 'ASER', 'TOSHIBA'])\n"
     ]
    }
   ],
   "source": [
    "print('Mobile Types: ')\n",
    "print(Shop['Electronic']['Mobile'].values())\n",
    "print()\n",
    "print('Laptop Types: ')\n",
    "print(Shop['Electronic']['Laptop'].values())"
   ]
  },
  {
   "cell_type": "markdown",
   "id": "29cc1540-9fb2-4a8c-b8f4-16249cd51ac8",
   "metadata": {},
   "source": [
    "### ➢ Print all makeup products"
   ]
  },
  {
   "cell_type": "code",
   "execution_count": 3,
   "id": "076a18d9-372a-487d-8a32-df51caa8d6b6",
   "metadata": {},
   "outputs": [
    {
     "name": "stdout",
     "output_type": "stream",
     "text": [
      "Makeup Products: \n",
      "1.Foundations: \n",
      "dict_values(['MISSROSE', 'HUDA BEAUTY', 'LOREAL', 'MAC'])\n",
      "Lipstick: \n",
      "dict_values(['MEDORA', 'HUDA BEAUTY', 'LOREAL', 'FLARMAR'])\n"
     ]
    }
   ],
   "source": [
    "print(\"Makeup Products: \")\n",
    "print(\"1.Foundations: \")\n",
    "print(Shop['Makeup']['Foundations'].values())\n",
    "print(\"Lipstick: \")\n",
    "print(Shop['Makeup']['Lipstick'].values())"
   ]
  },
  {
   "cell_type": "markdown",
   "id": "86b45a5e-a606-42f3-88e5-2107e184a6f7",
   "metadata": {},
   "source": [
    "### ➢ Print only mac from dictionary"
   ]
  },
  {
   "cell_type": "code",
   "execution_count": 4,
   "id": "2550c148-95cc-4043-8483-fdd42cd0c94e",
   "metadata": {},
   "outputs": [
    {
     "name": "stdout",
     "output_type": "stream",
     "text": [
      "MAC\n"
     ]
    }
   ],
   "source": [
    "print(Shop['Makeup']['Foundations']['F4'])"
   ]
  },
  {
   "cell_type": "markdown",
   "id": "d93a5596-f48f-403a-b29f-cfdb36ba08c1",
   "metadata": {},
   "source": [
    "### ➢ Add new laptop mobile and makeup type in diction in related part."
   ]
  },
  {
   "cell_type": "code",
   "execution_count": 5,
   "id": "215a7bc3-e923-4852-9190-64e8a4e2010e",
   "metadata": {},
   "outputs": [
    {
     "name": "stdout",
     "output_type": "stream",
     "text": [
      "Updated Laptops: \n",
      "{'Brand1': 'Dell', 'Brand2': 'HP', 'Brand3': 'ASER', 'Brand4': 'TOSHIBA', 'Brand5': 'LENOVO'}\n",
      "\n",
      "Updated Mobiles: \n",
      "{'C1': 'NOKIA', 'C2': 'INFNIX', 'C3': 'SAMSUNG', 'C4': 'OPPO', 'C5': 'VIVO'}\n",
      "\n",
      "Updated Makeup Type Blushes: \n",
      "{'B1': 'MAYBELLINE', 'B2': 'MILANI', 'B3': 'E.L.F.', 'B4': 'DIOR'}\n"
     ]
    }
   ],
   "source": [
    "# adding a new laptop\n",
    "Shop['Electronic']['Laptop'].update({'Brand5' : 'LENOVO'})\n",
    "# adding a new Mobile\n",
    "Shop['Electronic']['Mobile'].update({'C5' : 'VIVO'})\n",
    "# adding a new Makup TYPE\n",
    "Shop['Makeup'].update({'Blushes' : {'B1' : 'MAYBELLINE','B2' : 'MILANI','B3' : 'E.L.F.','B4' : 'DIOR'}})\n",
    "\n",
    "print('Updated Laptops: ')\n",
    "print(Shop['Electronic']['Laptop'])\n",
    "print()\n",
    "print('Updated Mobiles: ')\n",
    "print(Shop['Electronic']['Mobile'])\n",
    "print()\n",
    "print('Updated Makeup Type Blushes: ')\n",
    "print(Shop['Makeup']['Blushes'])"
   ]
  },
  {
   "cell_type": "markdown",
   "id": "365f4824-5660-45a7-ba62-af4bc0adc1a8",
   "metadata": {},
   "source": [
    "### ➢ Remove MEDORA from dictionary."
   ]
  },
  {
   "cell_type": "code",
   "execution_count": 6,
   "id": "c7eeab16-913b-4048-b6e5-c11b18ce5588",
   "metadata": {},
   "outputs": [
    {
     "name": "stdout",
     "output_type": "stream",
     "text": [
      "Updated Lipstick: \n",
      "{'L2': 'HUDA BEAUTY', 'L3': 'LOREAL', 'L4': 'FLARMAR'}\n"
     ]
    }
   ],
   "source": [
    "Shop['Makeup']['Lipstick'].pop('L1')\n",
    "\n",
    "print('Updated Lipstick: ')\n",
    "print(Shop['Makeup']['Lipstick'])"
   ]
  },
  {
   "cell_type": "markdown",
   "id": "7be145bd-6cca-4cdc-98d4-9c8687fb2cc0",
   "metadata": {},
   "source": [
    "### ➢ Print only Brand3, C4, F4, L2"
   ]
  },
  {
   "cell_type": "code",
   "execution_count": 7,
   "id": "a580a098-80ad-4dcb-bf8b-acc9bb3038cf",
   "metadata": {},
   "outputs": [
    {
     "name": "stdout",
     "output_type": "stream",
     "text": [
      "Brand3 |  ASER\n",
      "C4     |  OPPO\n",
      "F4     |  MAC\n",
      "L2     |  HUDA BEAUTY\n"
     ]
    }
   ],
   "source": [
    "print('Brand3 | ' , Shop['Electronic']['Laptop']['Brand3'])\n",
    "print('C4     | ', Shop['Electronic']['Mobile']['C4'] )\n",
    "print('F4     | ', Shop['Makeup']['Foundations']['F4'])\n",
    "print('L2     | ', Shop['Makeup']['Lipstick']['L2'])"
   ]
  },
  {
   "cell_type": "markdown",
   "id": "e8b643f5-03ce-423d-baaf-aecc3806a973",
   "metadata": {},
   "source": [
    "### ➢ Add new complete category and sub category of your desire product in dictionary."
   ]
  },
  {
   "cell_type": "code",
   "execution_count": 8,
   "id": "dad5b79a-61f6-426f-9ad0-b862e61fbbeb",
   "metadata": {},
   "outputs": [
    {
     "name": "stdout",
     "output_type": "stream",
     "text": [
      "{'Bikes': {'B1': 'ROYAL-ENFIELD', 'B2': 'YAMAHA', 'B3': 'HONDA', 'B4': 'CROWN'}}\n"
     ]
    }
   ],
   "source": [
    "Shop.update({'Vehical': {'Bikes':{'B1' : 'ROYAL-ENFIELD','B2':'YAMAHA','B3':'HONDA','B4':'CROWN'}}})\n",
    "print(Shop['Vehical'])"
   ]
  },
  {
   "cell_type": "markdown",
   "id": "9706578d-e991-47d4-adc2-9c0e49745444",
   "metadata": {},
   "source": [
    "### ➢ Remove any laptop, mobile, foundation and lipstick from dictionary."
   ]
  },
  {
   "cell_type": "code",
   "execution_count": 9,
   "id": "fcf16db2-4e4d-400b-9542-77abedaf4da6",
   "metadata": {},
   "outputs": [
    {
     "name": "stdout",
     "output_type": "stream",
     "text": [
      "Updated Laptop: \n",
      "{'Brand2': 'HP', 'Brand3': 'ASER', 'Brand4': 'TOSHIBA', 'Brand5': 'LENOVO'}\n",
      "Updated Mobile: \n",
      "{'C2': 'INFNIX', 'C3': 'SAMSUNG', 'C4': 'OPPO', 'C5': 'VIVO'}\n",
      "Updated Foundation: \n",
      "{'F2': 'HUDA BEAUTY', 'F3': 'LOREAL', 'F4': 'MAC'}\n",
      "Updated Lipstick: \n",
      "{'L3': 'LOREAL', 'L4': 'FLARMAR'}\n"
     ]
    }
   ],
   "source": [
    "# removing Laptop \n",
    "Shop['Electronic']['Laptop'].pop('Brand1')\n",
    "# removing Mobile \n",
    "Shop['Electronic']['Mobile'].pop('C1')\n",
    "# removing Foundation \n",
    "Shop['Makeup']['Foundations'].pop('F1')\n",
    "# removing lipstick \n",
    "Shop['Makeup']['Lipstick'].pop('L2')\n",
    "\n",
    "\n",
    "print('Updated Laptop: ')\n",
    "print(Shop['Electronic']['Laptop'])\n",
    "print('Updated Mobile: ')\n",
    "print(Shop['Electronic']['Mobile'])\n",
    "print('Updated Foundation: ')\n",
    "print(Shop['Makeup']['Foundations'])\n",
    "print('Updated Lipstick: ')\n",
    "print(Shop['Makeup']['Lipstick'])"
   ]
  },
  {
   "cell_type": "markdown",
   "id": "a4241d1c-5af8-417b-8e47-f4b45a216344",
   "metadata": {},
   "source": [
    "## <u>Using for loops</u>\n",
    "### • Print those products which start from ‘M’"
   ]
  },
  {
   "cell_type": "code",
   "execution_count": 10,
   "id": "55cfdcc3-c84c-4232-bf08-9e58d390e9f4",
   "metadata": {},
   "outputs": [
    {
     "name": "stdout",
     "output_type": "stream",
     "text": [
      "MAC\n",
      "MAYBELLINE\n",
      "MILANI\n"
     ]
    }
   ],
   "source": [
    "for key,value in Shop.items():\n",
    "    for i,j in value.items():\n",
    "        for k,l in j.items():\n",
    "            if l[0] == 'M':\n",
    "                print(l)"
   ]
  },
  {
   "cell_type": "markdown",
   "id": "a6367f0c-3bcc-4440-8a76-e84f0a855df2",
   "metadata": {},
   "source": [
    "### • Print those products which contained ‘M’ and ‘E’"
   ]
  },
  {
   "cell_type": "code",
   "execution_count": 11,
   "id": "324d7e37-0e64-4dde-9edf-551d3c65c2d6",
   "metadata": {},
   "outputs": [
    {
     "name": "stdout",
     "output_type": "stream",
     "text": [
      "MAYBELLINE\n"
     ]
    }
   ],
   "source": [
    "for key,value in Shop.items():\n",
    "    for i,j in value.items():\n",
    "        for k,l in j.items():\n",
    "            if 'M' in l and 'E' in l:\n",
    "                print(l)"
   ]
  },
  {
   "cell_type": "markdown",
   "id": "3f0af9ed-5cc7-477d-88be-aeeae61ab6ca",
   "metadata": {},
   "source": [
    "### • Print those products which contained number of characters less than 4"
   ]
  },
  {
   "cell_type": "code",
   "execution_count": 12,
   "id": "553237f4-889d-44ff-88cd-53e66dee2fc2",
   "metadata": {},
   "outputs": [
    {
     "name": "stdout",
     "output_type": "stream",
     "text": [
      "HP\n",
      "MAC\n"
     ]
    }
   ],
   "source": [
    "for key,value in Shop.items():\n",
    "    for i,j in value.items():\n",
    "        for k,l in j.items():\n",
    "            if len(l) < 4:\n",
    "                print(l)"
   ]
  },
  {
   "cell_type": "markdown",
   "id": "20597cc0-3fcd-47c1-a758-fff6179ce281",
   "metadata": {},
   "source": [
    "### • Print product with number of characters"
   ]
  },
  {
   "cell_type": "code",
   "execution_count": 13,
   "id": "df83613d-70c3-42a4-be21-2cbb9dd7262e",
   "metadata": {},
   "outputs": [
    {
     "name": "stdout",
     "output_type": "stream",
     "text": [
      "HP  :  2\n",
      "ASER  :  4\n",
      "TOSHIBA  :  7\n",
      "LENOVO  :  6\n",
      "INFNIX  :  6\n",
      "SAMSUNG  :  7\n",
      "OPPO  :  4\n",
      "VIVO  :  4\n",
      "HUDA BEAUTY  :  11\n",
      "LOREAL  :  6\n",
      "MAC  :  3\n",
      "LOREAL  :  6\n",
      "FLARMAR  :  7\n",
      "MAYBELLINE  :  10\n",
      "MILANI  :  6\n",
      "E.L.F.  :  6\n",
      "DIOR  :  4\n",
      "ROYAL-ENFIELD  :  13\n",
      "YAMAHA  :  6\n",
      "HONDA  :  5\n",
      "CROWN  :  5\n"
     ]
    }
   ],
   "source": [
    "for key,value in Shop.items():\n",
    "    for i,j in value.items():\n",
    "        for k,l in j.items():\n",
    "            print(l,' : ',len(l))"
   ]
  },
  {
   "cell_type": "markdown",
   "id": "c3e0afb7-c2d7-4713-b2c5-737fe6a721ae",
   "metadata": {},
   "source": [
    "### • Print those Mobile names which contained ‘I’"
   ]
  },
  {
   "cell_type": "code",
   "execution_count": 14,
   "id": "b9da9057-f481-4e56-ba75-8d15a9646045",
   "metadata": {},
   "outputs": [
    {
     "name": "stdout",
     "output_type": "stream",
     "text": [
      "INFNIX\n",
      "VIVO\n"
     ]
    }
   ],
   "source": [
    "for key,value in Shop['Electronic']['Mobile'].items():\n",
    "    if 'I' in value: \n",
    "        print(value)"
   ]
  },
  {
   "cell_type": "markdown",
   "id": "e5378def-d6f6-4ea2-af2b-e97ab9268c3b",
   "metadata": {},
   "source": [
    "### • Print those foundations names which contained ‘Y’ at the last position"
   ]
  },
  {
   "cell_type": "code",
   "execution_count": 55,
   "id": "fa749b7f-8b25-4d98-a92c-638b02fd1fd9",
   "metadata": {},
   "outputs": [
    {
     "name": "stdout",
     "output_type": "stream",
     "text": [
      "HUDA BEAUTY\n"
     ]
    }
   ],
   "source": [
    "for key,value in Shop['Makeup']['Foundations'].items():\n",
    "    if value[-1] == 'Y': \n",
    "        print(value)"
   ]
  }
 ],
 "metadata": {
  "kernelspec": {
   "display_name": "Python 3 (ipykernel)",
   "language": "python",
   "name": "python3"
  },
  "language_info": {
   "codemirror_mode": {
    "name": "ipython",
    "version": 3
   },
   "file_extension": ".py",
   "mimetype": "text/x-python",
   "name": "python",
   "nbconvert_exporter": "python",
   "pygments_lexer": "ipython3",
   "version": "3.12.7"
  }
 },
 "nbformat": 4,
 "nbformat_minor": 5
}
