{
 "cells": [
  {
   "cell_type": "markdown",
   "id": "17bd4eb7-d831-4233-931f-a4509c0b256b",
   "metadata": {},
   "source": [
    "# <center>LAB ASSIGNMENT 1</center>\n",
    "<center>Section: BSCS 5 E</center>"
   ]
  },
  {
   "cell_type": "markdown",
   "id": "6a116dd8-5be3-4980-823c-3b7cb4b1e065",
   "metadata": {},
   "source": [
    "## Q1: Print the following pattern with using String multiplication.\n",
    "<p>\n",
    "*****<br>\n",
    "****<br>\n",
    "***<br>\n",
    "**<br>\n",
    "*<br>\n",
    "*<br>\n",
    "**<br>\n",
    "***<br>\n",
    "****<br>\n",
    "*****<br>\n",
    "</p>"
   ]
  },
  {
   "cell_type": "markdown",
   "id": "36acc60a-6cf4-46fb-8a33-d5bfb68c84ac",
   "metadata": {},
   "source": [
    "### Solution:"
   ]
  },
  {
   "cell_type": "code",
   "execution_count": 68,
   "id": "59a32894-a9d3-438b-9802-a62660688a09",
   "metadata": {},
   "outputs": [
    {
     "name": "stdout",
     "output_type": "stream",
     "text": [
      "*****\n",
      "****\n",
      "***\n",
      "**\n",
      "*\n",
      "*\n",
      "**\n",
      "***\n",
      "****\n",
      "*****\n"
     ]
    }
   ],
   "source": [
    "print('*****\\n****\\n***\\n**\\n*\\n*\\n**\\n***\\n****\\n*****')"
   ]
  },
  {
   "cell_type": "markdown",
   "id": "ebbae58a-5e6d-4a09-97e1-1aa7cf86427a",
   "metadata": {},
   "source": [
    "## Q2: Take input your name, AG number, age, home town name, University name and your degree as user input and print text in following way:\n",
    "### <p>For Example: My name is <u>Ali</u>. I am <u>23</u> years old and currently studying <u>BS Computer Science (BSCS)</u> at <u>UAF University</u>. My ARID number is <u>2020-AG-XXXX</u>. My hometown is <u>Burewala</u>.</p>\n",
    "1. Using String Concatenation and type conversion for generation above text.\n",
    "2. Find length of string of above text after generation text.\n",
    "3. Print above text in lower cause\n",
    "4. Print above text in Upper cause.\n",
    "5. Print in revers order without any Loop or condition. (You may be use slicing).\n",
    "6. Print above string in ascending order with step size 2:\n",
    "Like (sriptadpittx nfloigwyFrEape ynm sAi m2 er l n urnl tdigB optrSine(SS tAi\n",
    "nvriy yAI ubri 00AI-XX yhmtw sBrwl.)\n",
    "7. Print above string in revers order if step size is 3 like: (leBiwehMXXI-0srm\n",
    "Ry.iendAaSBeeSepCBndsleud ory2a lsenMemEoy ilfix i auie)"
   ]
  },
  {
   "cell_type": "markdown",
   "id": "443d00ad-f28a-4a2f-9c8d-4106cb535ca3",
   "metadata": {},
   "source": [
    "### Solution:"
   ]
  },
  {
   "cell_type": "code",
   "execution_count": 69,
   "id": "e998384c-df1f-40d5-945f-4aed5ecb2c4d",
   "metadata": {},
   "outputs": [
    {
     "name": "stdin",
     "output_type": "stream",
     "text": [
      "Enter your Name:  Muhammad Hamid Raza\n",
      "Enter your AG Number (2020-ag-XXXX):  2023-ag-7206\n",
      "Enter your Age:  20\n",
      "Enter your Home Town Name:  Burewala\n",
      "Enter your University Name:  University of Agriculture Faisalabad\n",
      "Enter your degree:  BSCS\n"
     ]
    },
    {
     "name": "stdout",
     "output_type": "stream",
     "text": [
      "\n",
      "My name is Muhammad Hamid Raza. I am 20 years old and curently studying BSCS at University of Agriculture Faisalabad. My Ag Number is 2023-ag-7206. My home town is Burewala.\n"
     ]
    }
   ],
   "source": [
    "# 1.\n",
    "name = input(\"Enter your Name: \")\n",
    "ag_no = input(\"Enter your AG Number (2020-ag-XXXX): \")\n",
    "age = int(input(\"Enter your Age: \"))\n",
    "htname = input(\"Enter your Home Town Name: \")\n",
    "university = input(\"Enter your University Name: \")\n",
    "degree = input(\"Enter your degree: \")\n",
    "\n",
    "string1 = \"My name is \" + name + \". I am \" + str(age) +\" years old and curently studying \" + degree + \" at \" + university + \". My Ag Number is \" + ag_no + \". My home town is \" + htname + \".\"\n",
    "\n",
    "print()\n",
    "print(string1)"
   ]
  },
  {
   "cell_type": "code",
   "execution_count": 70,
   "id": "8c5f468e-0378-4413-9dd7-b54c545c7a53",
   "metadata": {},
   "outputs": [
    {
     "name": "stdout",
     "output_type": "stream",
     "text": [
      "173\n"
     ]
    }
   ],
   "source": [
    "# 2.\n",
    "print(len(string1))"
   ]
  },
  {
   "cell_type": "code",
   "execution_count": 71,
   "id": "899a0723-7c65-4a33-8061-71ce97fc5807",
   "metadata": {},
   "outputs": [
    {
     "name": "stdout",
     "output_type": "stream",
     "text": [
      "my name is muhammad hamid raza. i am 20 years old and curently studying bscs at university of agriculture faisalabad. my ag number is 2023-ag-7206. my home town is burewala.\n"
     ]
    }
   ],
   "source": [
    "# 3. \n",
    "print(string1.lower())"
   ]
  },
  {
   "cell_type": "code",
   "execution_count": 72,
   "id": "d836556b-1781-4512-95ee-36d41925553b",
   "metadata": {},
   "outputs": [
    {
     "name": "stdout",
     "output_type": "stream",
     "text": [
      "MY NAME IS MUHAMMAD HAMID RAZA. I AM 20 YEARS OLD AND CURENTLY STUDYING BSCS AT UNIVERSITY OF AGRICULTURE FAISALABAD. MY AG NUMBER IS 2023-AG-7206. MY HOME TOWN IS BUREWALA.\n"
     ]
    }
   ],
   "source": [
    "# 4. \n",
    "print(string1.upper())"
   ]
  },
  {
   "cell_type": "code",
   "execution_count": 73,
   "id": "ab9331f6-368c-4ce3-ae02-38564a15f01c",
   "metadata": {},
   "outputs": [
    {
     "name": "stdout",
     "output_type": "stream",
     "text": [
      ".alaweruB si nwot emoh yM .6027-ga-3202 si rebmuN gA yM .dabalasiaF erutlucirgA fo ytisrevinU ta SCSB gniyduts yltneruc dna dlo sraey 02 ma I .azaR dimaH dammahuM si eman yM\n"
     ]
    }
   ],
   "source": [
    "# 5. \n",
    "print(string1[::-1])"
   ]
  },
  {
   "cell_type": "code",
   "execution_count": 74,
   "id": "2d098121-c8fe-411f-83b8-3444e02decf7",
   "metadata": {},
   "outputs": [
    {
     "name": "stdout",
     "output_type": "stream",
     "text": [
      "M aei uamdHmdRz.Ia 0yasodadcrnl tdigBC tUiest fArclueFiaaa.M gNme s22-g70.M oetw sBrwl.\n"
     ]
    }
   ],
   "source": [
    "# 6.\n",
    "print(string1[::2])"
   ]
  },
  {
   "cell_type": "code",
   "execution_count": 75,
   "id": "155edb8d-3315-4ce1-9a5d-87b01ebf441f",
   "metadata": {},
   "outputs": [
    {
     "name": "stdout",
     "output_type": "stream",
     "text": [
      ".ar  oehM67a2  bNAMdasFrliAotri  Sgytynud ory2a z m mh  ay\n"
     ]
    }
   ],
   "source": [
    "# 7.\n",
    "print(string1[::-3])"
   ]
  },
  {
   "attachments": {},
   "cell_type": "markdown",
   "id": "a0885d78-9ec9-460a-b75c-ec7a3fec40e3",
   "metadata": {},
   "source": [
    "## Q3: Solve following expiration using python code and print possible out puts. Values\n",
    "<center><img src=\"../images/exp.PNG\"></img></center>\n",
    "## of a, b. and c will be entered by user."
   ]
  },
  {
   "cell_type": "markdown",
   "id": "a5c7af44-c0c2-425e-af08-480e2c4839a0",
   "metadata": {},
   "source": [
    "### Solution:"
   ]
  },
  {
   "cell_type": "code",
   "execution_count": 76,
   "id": "82b2009e-11e5-4316-b03d-da235f02eaf6",
   "metadata": {},
   "outputs": [
    {
     "name": "stdin",
     "output_type": "stream",
     "text": [
      "Enter the Value of 'a':  1\n",
      "Enter the Value of 'b':  5\n",
      "Enter the Value of 'c':  6\n"
     ]
    },
    {
     "name": "stdout",
     "output_type": "stream",
     "text": [
      "\n",
      "Solution (x):\n",
      "-2.0\n",
      "-3.0\n"
     ]
    }
   ],
   "source": [
    "a = int(input(\"Enter the Value of 'a': \"))\n",
    "b = int(input(\"Enter the Value of 'b': \"))\n",
    "c = int(input(\"Enter the Value of 'c': \"))\n",
    "# example equation: X**2 + 5X + 6 = 0\n",
    "print()\n",
    "print(\"Solution (x):\")\n",
    "print(((-b) + ((b**2) - (4*a*c))**0.5) / 2*a)\n",
    "print(((-b) - ((b**2) - (4*a*c))**0.5) / 2*a)"
   ]
  },
  {
   "cell_type": "markdown",
   "id": "a987ed1b-6a28-4ddf-a451-ec75ce424bd1",
   "metadata": {},
   "source": [
    "# Q4: Let Alpha = “ABCDEFGHIJKLMNOPQRSTUVWXYZ” Than print following patterns by using slicing\n",
    "1. Print reverse order\n",
    "2. “ZXVTRPNLJHFDB”\n",
    "3. “ADGJMPSVY”\n",
    "4. “ZWTQNKHEB”\n",
    "5. Replace first and last letters with “* * *”"
   ]
  },
  {
   "cell_type": "markdown",
   "id": "3638023e-9fcd-4847-b9b2-81f9dba6b41a",
   "metadata": {},
   "source": [
    "### Solution : "
   ]
  },
  {
   "cell_type": "code",
   "execution_count": 77,
   "id": "c1ae397e-5f2d-4d8b-b6ac-95f0aea51594",
   "metadata": {},
   "outputs": [
    {
     "name": "stdout",
     "output_type": "stream",
     "text": [
      "ZYXWVUTSRQPONMLKJIHGFEDCBA\n"
     ]
    }
   ],
   "source": [
    "# 1. \n",
    "Alpha = \"ABCDEFGHIJKLMNOPQRSTUVWXYZ\"\n",
    "print(Alpha[::-1])"
   ]
  },
  {
   "cell_type": "code",
   "execution_count": 78,
   "id": "8c0bd970-4b80-4f83-ad78-ccfd263f115e",
   "metadata": {},
   "outputs": [
    {
     "name": "stdout",
     "output_type": "stream",
     "text": [
      "ZXVTRPNLJHFDB\n"
     ]
    }
   ],
   "source": [
    "# 2. \n",
    "print(Alpha[::-2])"
   ]
  },
  {
   "cell_type": "code",
   "execution_count": 79,
   "id": "f26432f3-bd68-410c-be1e-041ecf9ced06",
   "metadata": {},
   "outputs": [
    {
     "name": "stdout",
     "output_type": "stream",
     "text": [
      "ADGJMPSVY\n"
     ]
    }
   ],
   "source": [
    "# 3. \n",
    "print(Alpha[::3])"
   ]
  },
  {
   "cell_type": "code",
   "execution_count": 80,
   "id": "3e3e8de7-8332-4bb0-aaa1-5ae4f7356d51",
   "metadata": {},
   "outputs": [
    {
     "name": "stdout",
     "output_type": "stream",
     "text": [
      "ZWTQNKHEB\n"
     ]
    }
   ],
   "source": [
    "# 4. \n",
    "print(Alpha[::-3])"
   ]
  },
  {
   "cell_type": "code",
   "execution_count": 81,
   "id": "3edcd67d-3ef6-46a2-8dc8-768b6666319b",
   "metadata": {},
   "outputs": [
    {
     "name": "stdout",
     "output_type": "stream",
     "text": [
      "***BCDEFGHIJKLMNOPQRSTUVWXY***\n"
     ]
    }
   ],
   "source": [
    "# 5.\n",
    "print(\"***\" + Alpha[1 : len(Alpha)-1] + \"***\")"
   ]
  },
  {
   "attachments": {},
   "cell_type": "markdown",
   "id": "9d0e1751-c03b-4c6d-a46c-55fa8cf57537",
   "metadata": {},
   "source": [
    "## Q5: Solve following expiration using python code and print possible out puts. Values of m and c will be entered by user.\n",
    "<center><img src=\"../images/emc.PNG\"></img></center>"
   ]
  },
  {
   "cell_type": "markdown",
   "id": "4f8e6624-5b10-4960-bd8a-1f57c0c1bba8",
   "metadata": {},
   "source": [
    "### Solution:"
   ]
  },
  {
   "cell_type": "code",
   "execution_count": 82,
   "id": "ec8a1290-64f6-4366-8cae-baa1cb03bf23",
   "metadata": {},
   "outputs": [
    {
     "name": "stdin",
     "output_type": "stream",
     "text": [
      "Enter the Mass in kg:  0.002\n",
      "Enter the speed of light in m/s (3x10**8): 300000000\n"
     ]
    },
    {
     "name": "stdout",
     "output_type": "stream",
     "text": [
      "Energy = 180000000000000.0 Joules\n"
     ]
    }
   ],
   "source": [
    "m = float(input(\"Enter the Mass in kg: \"))\n",
    "c = float(input(\"Enter the speed of light in m/s (3x10**8):\" ))\n",
    "E = m * (c**2)\n",
    "\n",
    "# expamle => E = 0.002kg x  (3x10^8 m/s)^2\n",
    "print(f\"Energy = {E} Joules\")"
   ]
  },
  {
   "attachments": {},
   "cell_type": "markdown",
   "id": "7d0ab31d-e48d-4d94-a750-c9d6186752d2",
   "metadata": {},
   "source": [
    "## Q6: Write a program that produces the following output. With using String multiplication.\n",
    "<center><img src=\"../images/pattern1.PNG\"></img></center>"
   ]
  },
  {
   "cell_type": "markdown",
   "id": "b95e2146-f617-437b-a824-230954368864",
   "metadata": {},
   "source": [
    "### Solution:"
   ]
  },
  {
   "cell_type": "code",
   "execution_count": 83,
   "id": "3c35af6b-9c66-4da9-9360-7a41dbe000a6",
   "metadata": {},
   "outputs": [
    {
     "name": "stdout",
     "output_type": "stream",
     "text": [
      "!!!!!!!!!!!!!!!!!!!!!!\n",
      "\\\\!!!!!!!!!!!!!!!!!!//\n",
      "\\\\\\\\!!!!!!!!!!!!!!////\n",
      "\\\\\\\\\\\\!!!!!!!!!!//////\n",
      "\\\\\\\\\\\\\\\\!!!!!!////////\n",
      "\\\\\\\\\\\\\\\\\\\\!!//////////\n"
     ]
    }
   ],
   "source": [
    "print(\"!\"*22 + \"\\n\" + \"\\\\\"*2+\"!\"*18+\"/\"*2 + \"\\n\" + \"\\\\\"*4+\"!\"*14+\"/\"*4 + \"\\n\" + \"\\\\\"*6+\"!\"*10+\"/\"*6 + \"\\n\" + \"\\\\\"*8+\"!\"*6+\"/\"*8 + \"\\n\" + \"\\\\\"*10+\"!\"*2+\"/\"*10)"
   ]
  },
  {
   "attachments": {},
   "cell_type": "markdown",
   "id": "1e7493e6-79e0-4799-a731-457014218764",
   "metadata": {},
   "source": [
    "## Q7. It's common to print a rotating, increasing list of single-digit numbers at the startof a program's output as a visual guide to number the columns of the output to follow.Write code without use any control structure. Singel of multiple print statements willbe valid.\n",
    "<center><img src=\"../images/pattern2.PNG\"></img></center>"
   ]
  },
  {
   "cell_type": "markdown",
   "id": "a7fce50d-6cdf-4713-b7ff-8eabf5a93c35",
   "metadata": {},
   "source": [
    "### Solution:"
   ]
  },
  {
   "cell_type": "code",
   "execution_count": 84,
   "id": "749b46b1-a23b-4acb-a063-691f6fd142e4",
   "metadata": {},
   "outputs": [
    {
     "name": "stdout",
     "output_type": "stream",
     "text": [
      "         |         |         |         |         |         |\n",
      "123456789012345678901234567890123456789012345678901234567890\n"
     ]
    }
   ],
   "source": [
    "print((\" \"*9 + \"|\")*6 + \"\\n\" + \"1234567890\"*6)"
   ]
  },
  {
   "attachments": {},
   "cell_type": "markdown",
   "id": "49f754e9-5c6e-4cbe-bc93-551ffbce4480",
   "metadata": {},
   "source": [
    "## Q8: Write code without use any control structure. Singel of multiple print statements will be valid.\n",
    "<center><img src=\"../images/pattern3.PNG\"></img></center>"
   ]
  },
  {
   "cell_type": "code",
   "execution_count": 85,
   "id": "41debe16-2837-4f15-9db7-c2630d0df1f5",
   "metadata": {},
   "outputs": [
    {
     "name": "stdout",
     "output_type": "stream",
     "text": [
      "****** //////////// ******\n",
      "*****  //////////\\\\  *****\n",
      "****   ////////\\\\\\\\   ****\n",
      "***    //////\\\\\\\\\\\\    ***\n",
      "**     ////\\\\\\\\\\\\\\\\     **\n",
      "*      //\\\\\\\\\\\\\\\\\\\\      *\n",
      "       \\\\\\\\\\\\\\\\\\\\\\\\       \n"
     ]
    }
   ],
   "source": [
    "print(\"*\"*6+\" \"*1+\"/\"*12+\" \"*1+\"*\"*6 +\"\\n\" + \"*\"*5+\" \"*2+\"/\"*10+\"\\\\\"*2+\" \"*2+\"*\"*5 + \"\\n\" + \"*\"*4+\" \"*3+\"/\"*8+\"\\\\\"*4+\" \"*3+\"*\"*4 + \"\\n\" + \"*\"*3+\" \"*4+\"/\"*6+\"\\\\\"*6+\" \"*4+\"*\"*3 + \"\\n\" + \"*\"*2+\" \"*5+\"/\"*4+\"\\\\\"*8+\" \"*5+\"*\"*2 + \"\\n\" + \"*\"*1+\" \"*6+\"/\"*2+\"\\\\\"*10+\" \"*6+\"*\"*1 + \"\\n\" + \" \"*7+\"\\\\\"*12+\" \"*7)"
   ]
  }
 ],
 "metadata": {
  "kernelspec": {
   "display_name": "Python 3 (ipykernel)",
   "language": "python",
   "name": "python3"
  },
  "language_info": {
   "codemirror_mode": {
    "name": "ipython",
    "version": 3
   },
   "file_extension": ".py",
   "mimetype": "text/x-python",
   "name": "python",
   "nbconvert_exporter": "python",
   "pygments_lexer": "ipython3",
   "version": "3.12.7"
  }
 },
 "nbformat": 4,
 "nbformat_minor": 5
}
