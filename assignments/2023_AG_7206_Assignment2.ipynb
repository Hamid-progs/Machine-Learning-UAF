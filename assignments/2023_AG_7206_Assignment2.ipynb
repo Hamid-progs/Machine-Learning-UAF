{
 "cells": [
  {
   "cell_type": "markdown",
   "id": "7d287464-8e43-41c8-8327-08c130fed6c0",
   "metadata": {},
   "source": [
    "# <center>ML LAB ASSIGNMENT 2</center>"
   ]
  },
  {
   "cell_type": "markdown",
   "id": "f6e3a5c3-cfbd-4377-8098-0b9bba519ca1",
   "metadata": {},
   "source": [
    "## Q1: Write a program that reads three integers and outputs the smallest.\n",
    "### Solution:"
   ]
  },
  {
   "cell_type": "code",
   "execution_count": 1,
   "id": "85b8cefa-b86f-4fcc-86c6-4bf6d0bde3a9",
   "metadata": {},
   "outputs": [
    {
     "name": "stdin",
     "output_type": "stream",
     "text": [
      "Enter a Number1:  3\n",
      "Enter a Number2:  3\n",
      "Enter a Number3:  1\n"
     ]
    },
    {
     "name": "stdout",
     "output_type": "stream",
     "text": [
      "\"1\"is the smallest Number!\n"
     ]
    }
   ],
   "source": [
    "a = int(input(\"Enter a Number1: \"))\n",
    "b = int(input(\"Enter a Number2: \"))\n",
    "c = int(input(\"Enter a Number3: \"))\n",
    "if a < b and a < c:\n",
    "    print(f\"{a} is the smallest Number!\")\n",
    "elif b < c:\n",
    "    print(f\"{b} is the smallest Number!\")\n",
    "else:\n",
    "    print(f'\"{c}\"is the smallest Number!')"
   ]
  },
  {
   "cell_type": "markdown",
   "id": "ff056829-5c8e-4f65-a328-840e4d29bb77",
   "metadata": {},
   "source": [
    "## Q2: Write a program that reads two integers and outputs them in decreasing order.\n",
    "### Solution: "
   ]
  },
  {
   "cell_type": "code",
   "execution_count": 2,
   "id": "09ef075d-0739-42a4-b836-ca3b2ba8f54e",
   "metadata": {},
   "outputs": [
    {
     "name": "stdin",
     "output_type": "stream",
     "text": [
      "Enter a Number1:  32\n",
      "Enter a Number2:  23\n"
     ]
    },
    {
     "name": "stdout",
     "output_type": "stream",
     "text": [
      "Decending Order: 32,23\n"
     ]
    }
   ],
   "source": [
    "a = int(input(\"Enter a Number1: \"))\n",
    "b = int(input(\"Enter a Number2: \"))\n",
    "if a < b:\n",
    "    minimum = a \n",
    "    maximum = b \n",
    "else: \n",
    "    minimum = b \n",
    "    maximum = a\n",
    "print(f\"Decending Order: {maximum},{minimum}\")"
   ]
  },
  {
   "cell_type": "markdown",
   "id": "7f1a5695-5a50-45bd-b67c-716e6e241c39",
   "metadata": {},
   "source": [
    "## Q3: Write and run a program that simulates a simple calculator. It reads two integers and a character. If the character is a +, the sum is printed; if it is a -, the difference is printed; if it is a *, the product is printed; and if it is a /, the quotient is printed.\n",
    "### Solution:"
   ]
  },
  {
   "cell_type": "code",
   "execution_count": 3,
   "id": "8d4b84bf-c545-4baf-a975-003b390d6742",
   "metadata": {},
   "outputs": [
    {
     "name": "stdin",
     "output_type": "stream",
     "text": [
      "Enter a Number1:  2\n",
      "Enter a Number2:  2\n",
      "Enter the operation you want to perform(+,-,*,/):  /\n"
     ]
    },
    {
     "name": "stdout",
     "output_type": "stream",
     "text": [
      "2 / 2 = 1.0\n"
     ]
    }
   ],
   "source": [
    "a = int(input(\"Enter a Number1: \"))\n",
    "b = int(input(\"Enter a Number2: \"))\n",
    "operator = input(\"Enter the operation you want to perform(+,-,*,/): \")\n",
    "if operator == '+':\n",
    "    print(f\"{a} + {b} = {a+b}\")\n",
    "elif operator == '-':\n",
    "    print(f\"{a} - {b} = {a-b}\")\n",
    "elif operator == '*':\n",
    "    print(f\"{a} x {b} = {a*b}\")\n",
    "elif operator == '/':\n",
    "    print(f\"{a} / {b} = {a/b}\")\n",
    "else: \n",
    "    print(\"Invalid Operation!\")"
   ]
  },
  {
   "cell_type": "markdown",
   "id": "4eda28c9-3aa3-4e41-baa0-f104628112b0",
   "metadata": {},
   "source": [
    "## Q4: Write a program that reads three integers and prints the average of these.\n",
    "### Solution: "
   ]
  },
  {
   "cell_type": "code",
   "execution_count": 4,
   "id": "ba579229-d11d-45a7-849c-1e600c2525b6",
   "metadata": {},
   "outputs": [
    {
     "name": "stdin",
     "output_type": "stream",
     "text": [
      "Enter a Number1:  1\n",
      "Enter a Number2:  2\n",
      "Enter a Number3:  3\n"
     ]
    },
    {
     "name": "stdout",
     "output_type": "stream",
     "text": [
      "Average = 2.0\n"
     ]
    }
   ],
   "source": [
    "a = int(input(\"Enter a Number1: \"))\n",
    "b = int(input(\"Enter a Number2: \"))\n",
    "c = int(input(\"Enter a Number3: \"))\n",
    "print(f'Average = {(a+b+c)/3}')"
   ]
  },
  {
   "cell_type": "markdown",
   "id": "f0f17fa3-aa7d-479b-98c7-4a5449e91cb7",
   "metadata": {},
   "source": [
    "## Q5: Write a program that reads the score of a student in a subject and displays his grade\n",
    "<center><img src=\"../images/Grades.PNG\" alt=\"Grading picture\"></img></center>\n",
    "\n",
    "## Solution:"
   ]
  },
  {
   "cell_type": "code",
   "execution_count": 5,
   "id": "8ed5bc27-5367-47c9-bbfb-4ba210d153b0",
   "metadata": {},
   "outputs": [
    {
     "name": "stdin",
     "output_type": "stream",
     "text": [
      "Enter Your Score:  91\n"
     ]
    },
    {
     "name": "stdout",
     "output_type": "stream",
     "text": [
      "Grade : A+\n"
     ]
    }
   ],
   "source": [
    "score = float(input(\"Enter Your Score: \"))\n",
    "if score >= 90: \n",
    "    print(f\"Grade : A+\")\n",
    "elif score >= 80 and score <= 89: \n",
    "    print(f\"Grade : A\")\n",
    "elif score >= 70 and score <= 79: \n",
    "    print(f\"Grade : B\")\n",
    "elif score >= 60 and score <= 69: \n",
    "    print(f\"Grade : C\")\n",
    "elif score >= 50 and score <= 59: \n",
    "    print(f\"Grade : D\")\n",
    "elif score < 50 : \n",
    "    print(f\"Grade : F\")\n",
    "else:\n",
    "    print('Invalid Score!')"
   ]
  },
  {
   "cell_type": "markdown",
   "id": "7b5229ca-288e-4654-b66b-bdb3f19555d8",
   "metadata": {},
   "source": [
    "## Q6: Write a while loop that produces the following output:\n",
    "## <center>-81,-49,-25,-9,-1, 1, 9, 25, 49, 81</center>\n",
    "### Solution: "
   ]
  },
  {
   "cell_type": "code",
   "execution_count": 6,
   "id": "fb3c0999-017b-4df3-947b-fb8cd445e10b",
   "metadata": {},
   "outputs": [
    {
     "name": "stdout",
     "output_type": "stream",
     "text": [
      "-81,-49,-25,-9,-1,1,9,25,49,81"
     ]
    }
   ],
   "source": [
    "num = -9 \n",
    "while num <= 9:\n",
    "    if num == 9:                       # this will not put the comma at the end\n",
    "        print(num*(num),end=\"\")\n",
    "        num += 2\n",
    "    elif num >= 0:\n",
    "        print(num*(num),end=\",\")\n",
    "        num += 2\n",
    "    else: \n",
    "        print(num*(-num),end=\",\")\n",
    "        num += 2"
   ]
  },
  {
   "cell_type": "markdown",
   "id": "c06de759-d77c-4310-91de-ca07988313fc",
   "metadata": {},
   "source": [
    "## Q7: Print following pattern with using any loop or condition.\n",
    "<center><img src='../images/pattern4.PNG' alt='Pattern Picture'></img></center>\n",
    "\n",
    "### Solution: "
   ]
  },
  {
   "cell_type": "code",
   "execution_count": 7,
   "id": "fe264337-9246-4e04-bd69-3a1ad048251b",
   "metadata": {},
   "outputs": [
    {
     "name": "stdout",
     "output_type": "stream",
     "text": [
      "*****\n",
      "****\n",
      "***\n",
      "**\n",
      "*\n",
      "*\n",
      "**\n",
      "***\n",
      "****\n",
      "*****\n"
     ]
    }
   ],
   "source": [
    "for i in range(5,0,-1):\n",
    "    print(\"*\"*i)\n",
    "for j in range(1,6):\n",
    "    print(\"*\"*j)"
   ]
  },
  {
   "cell_type": "markdown",
   "id": "0e18d0e4-227a-43e0-9a77-c1cb43d1bd76",
   "metadata": {},
   "source": [
    "## Q8: Print odd numbers from 1 to 19 using a while loop.\n",
    "### Solution: "
   ]
  },
  {
   "cell_type": "code",
   "execution_count": 8,
   "id": "65f74b0f-7016-4fef-8d49-bc981888b081",
   "metadata": {},
   "outputs": [
    {
     "name": "stdout",
     "output_type": "stream",
     "text": [
      "1,3,5,7,9,11,13,15,17,19"
     ]
    }
   ],
   "source": [
    "n = 1 \n",
    "while n <= 19: \n",
    "    if n == 19:\n",
    "        print(n,end='')    # it will not print \",\" at the end\n",
    "        n += 2\n",
    "    else:\n",
    "        print(n,end=',')\n",
    "        n += 2"
   ]
  },
  {
   "cell_type": "markdown",
   "id": "b0104016-90fa-464a-868d-cc0568acdbc8",
   "metadata": {},
   "source": [
    "## Q9: Reverse a given string using a while loop.\n",
    "### Solution: "
   ]
  },
  {
   "cell_type": "code",
   "execution_count": 1,
   "id": "97f98b74-90c9-4ad5-af65-af0a1f41cc50",
   "metadata": {},
   "outputs": [
    {
     "name": "stdin",
     "output_type": "stream",
     "text": [
      "Enter a Sentence :  My name is Muhammad Hamid Raza.\n"
     ]
    },
    {
     "name": "stdout",
     "output_type": "stream",
     "text": [
      "Reversed sentence: \n",
      ".azaR dimaH dammahuM si eman yM"
     ]
    }
   ],
   "source": [
    "sentence = input(\"Enter a Sentence : \")\n",
    "l = len(sentence)-1\n",
    "print(\"Reversed sentence: \")\n",
    "while l>= 0:\n",
    "    print(sentence[l],end='')\n",
    "    l -= 1"
   ]
  },
  {
   "cell_type": "markdown",
   "id": "d9650a2e-49b3-4ff6-839b-2bcbce34427e",
   "metadata": {},
   "source": [
    "## Q10: Print Fibonacci series up to a certain number using a while loop.\n",
    "### Solution:"
   ]
  },
  {
   "cell_type": "code",
   "execution_count": 10,
   "id": "64d436ce-aa53-487f-b711-f455c8c8eaeb",
   "metadata": {},
   "outputs": [
    {
     "name": "stdin",
     "output_type": "stream",
     "text": [
      "Enter a Number:  5\n"
     ]
    },
    {
     "name": "stdout",
     "output_type": "stream",
     "text": [
      "0 1 1 2 3 5 "
     ]
    }
   ],
   "source": [
    "num = int(input(\"Enter a Number: \"))\n",
    "a, b = 0, 1\n",
    "while a <= num:\n",
    "    print(a, end=\" \")\n",
    "    c = a + b           # next    \n",
    "    a = b               # to be printed \n",
    "    b = c               # points to the c for history/tracking"
   ]
  },
  {
   "cell_type": "markdown",
   "id": "4858d08a-cf8b-44d1-941d-9799a13274e7",
   "metadata": {},
   "source": [
    "## Q11: Calculate the factorial of a number using a while loop.\n",
    "### Solution:"
   ]
  },
  {
   "cell_type": "code",
   "execution_count": 11,
   "id": "f2d7dc8f-2bfe-4a1a-885c-043cf2374d0e",
   "metadata": {},
   "outputs": [
    {
     "name": "stdin",
     "output_type": "stream",
     "text": [
      "Enter a number :  6\n"
     ]
    },
    {
     "name": "stdout",
     "output_type": "stream",
     "text": [
      "Factoria of 6 is 720\n"
     ]
    }
   ],
   "source": [
    "num = int(input(\"Enter a number : \"))\n",
    "i = 1 \n",
    "fac = 1\n",
    "while i <= num: \n",
    "    fac *= i\n",
    "    i += 1\n",
    "print(f\"Factoria of {num} is {fac}\")"
   ]
  },
  {
   "cell_type": "markdown",
   "id": "334e0166-a876-4f47-a9ef-f01127679a4c",
   "metadata": {},
   "source": [
    "## Q13: Print even numbers from 1 to 20 using a while loop.\n",
    "### Solution: "
   ]
  },
  {
   "cell_type": "code",
   "execution_count": 12,
   "id": "d3e396fc-8942-469a-b6f1-5a4e8b874001",
   "metadata": {},
   "outputs": [
    {
     "name": "stdout",
     "output_type": "stream",
     "text": [
      "2,4,6,8,10,12,14,16,18,20"
     ]
    }
   ],
   "source": [
    "i = 1 \n",
    "while i <= 20:\n",
    "    if i == 20 and i%2 == 0:   # it will not print \",\" at the end\n",
    "        print(i,end='')\n",
    "    elif i%2 == 0: \n",
    "        print(i,end=',')\n",
    "    i += 1"
   ]
  },
  {
   "cell_type": "markdown",
   "id": "05d77d71-bebb-4da7-80d1-155023fec6f9",
   "metadata": {},
   "source": [
    "## Q14: Calculate the product of numbers from 1 to 10 using a while loop.\n",
    "### Solution: "
   ]
  },
  {
   "cell_type": "code",
   "execution_count": 13,
   "id": "ee4d8766-3882-4541-8feb-ab4e021d1111",
   "metadata": {},
   "outputs": [
    {
     "name": "stdout",
     "output_type": "stream",
     "text": [
      "Product : 3628800\n"
     ]
    }
   ],
   "source": [
    "i = 1 \n",
    "product = 1\n",
    "while i <= 10:\n",
    "    product *= i\n",
    "    i += 1\n",
    "print(f\"Product : {product}\")"
   ]
  },
  {
   "cell_type": "markdown",
   "id": "960615db-8030-42bc-81f5-220538418262",
   "metadata": {},
   "source": [
    "## Q15: Write a program that produces the following output. Use nested while loops to capture the structure of the figure.\n",
    "<center><img src=\"../images/pattern5.PNG\" alt=\"Pattern Picture\"></img></center>\n",
    "\n",
    "### Solution: "
   ]
  },
  {
   "cell_type": "code",
   "execution_count": 14,
   "id": "98efc866-018f-4430-85fd-1dcb0aaacfec",
   "metadata": {},
   "outputs": [
    {
     "name": "stdout",
     "output_type": "stream",
     "text": [
      "    1\n",
      "   22\n",
      "  333\n",
      " 4444\n",
      "55555\n"
     ]
    }
   ],
   "source": [
    "i= 5\n",
    "j = 1\n",
    "n = 1\n",
    "while i >= 1:\n",
    "    j = 1\n",
    "    while j <= i-1:              # this will print spaces \" \" \n",
    "        print(\" \",end='')\n",
    "        j+=1\n",
    "    print(str(n)*n)              # this will print n times n number\n",
    "    n += 1\n",
    "    i -= 1"
   ]
  },
  {
   "cell_type": "markdown",
   "id": "919dc1f4-9c98-48aa-b556-25c1d69d2cda",
   "metadata": {},
   "source": [
    "## Q16: Write a program that produces the following output. Use nested while loops to capture the structure of the figure.\n",
    "<center><img src='../images/pattern6.PNG' alt='Pattern Picture'></img></center>\n",
    "\n",
    "### Solution: "
   ]
  },
  {
   "cell_type": "code",
   "execution_count": 15,
   "id": "49a02d58-9dcf-4fad-84ae-d261ffebda0b",
   "metadata": {},
   "outputs": [
    {
     "name": "stdout",
     "output_type": "stream",
     "text": [
      "    1\n",
      "   2\n",
      "  3\n",
      " 4\n",
      "5\n"
     ]
    }
   ],
   "source": [
    "i= 5\n",
    "j = 1\n",
    "n = 1\n",
    "while i >= 1:\n",
    "    j = 1\n",
    "    while j <= i-1:\n",
    "        print(\" \",end='')       # this will print spaces \" \"\n",
    "        j+=1\n",
    "    print(str(n))               # this will print number after i-1 time spaces\n",
    "    n += 1\n",
    "    i -= 1"
   ]
  },
  {
   "cell_type": "code",
   "execution_count": null,
   "id": "a6717d47-2e54-4ece-951d-991ade8a26b1",
   "metadata": {},
   "outputs": [],
   "source": []
  },
  {
   "cell_type": "code",
   "execution_count": null,
   "id": "705faa54-811c-48b5-afd9-1fc2f0e47250",
   "metadata": {},
   "outputs": [],
   "source": []
  }
 ],
 "metadata": {
  "kernelspec": {
   "display_name": "Python 3 (ipykernel)",
   "language": "python",
   "name": "python3"
  },
  "language_info": {
   "codemirror_mode": {
    "name": "ipython",
    "version": 3
   },
   "file_extension": ".py",
   "mimetype": "text/x-python",
   "name": "python",
   "nbconvert_exporter": "python",
   "pygments_lexer": "ipython3",
   "version": "3.12.7"
  }
 },
 "nbformat": 4,
 "nbformat_minor": 5
}
