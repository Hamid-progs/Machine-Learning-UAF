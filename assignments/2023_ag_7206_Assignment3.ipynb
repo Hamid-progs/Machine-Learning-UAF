{
 "cells": [
  {
   "cell_type": "markdown",
   "id": "3c44be8f-3607-4177-a504-d07ce6533962",
   "metadata": {},
   "source": [
    "# <center>ML LAB ASSIGNMENT 3</center>"
   ]
  },
  {
   "cell_type": "markdown",
   "id": "2f65bbdb-09e6-4e5c-a2a3-bc116d40eb39",
   "metadata": {},
   "source": [
    "## Q1: Initialize a list with your first name like\n",
    "## Ali = [100,-23,33,25,150,90,-71,33,45,33,54,63,69,74,78]\n",
    "### (i) Extend above list with last four character of AG number like 2020 – AG – 6660So new list will be \n",
    "### Ali =[100,-23,33,25,150,90,-71,33,45,33,54,63,69,74,78,6660]\n",
    "#### Solution: "
   ]
  },
  {
   "cell_type": "code",
   "execution_count": 2,
   "id": "589bb95d-6fcd-4778-8e3a-0849a50b859d",
   "metadata": {},
   "outputs": [
    {
     "name": "stdout",
     "output_type": "stream",
     "text": [
      "[100, -23, 33, 25, 150, 90, -71, 33, 45, 33, 54, 63, 69, 74, 78, 7206]\n"
     ]
    }
   ],
   "source": [
    "Hamid = [100,-23,33,25,150,90,-71,33,45,33,54,63,69,74,78]\n",
    "Hamid.append(7206)\n",
    "print(Hamid)"
   ]
  },
  {
   "cell_type": "markdown",
   "id": "2f35ad4a-6fc3-4265-b4c6-46dd847a1f4e",
   "metadata": {},
   "source": [
    "### (ii) Insert -4500 at index 5\n",
    "#### Solution: "
   ]
  },
  {
   "cell_type": "code",
   "execution_count": 3,
   "id": "06b644a4-c008-49fe-9c00-1b274cfd247a",
   "metadata": {},
   "outputs": [
    {
     "name": "stdout",
     "output_type": "stream",
     "text": [
      "[100, -23, 33, 25, 150, -4500, 90, -71, 33, 45, 33, 54, 63, 69, 74, 78, 7206]\n"
     ]
    }
   ],
   "source": [
    "Hamid.insert(5,-4500)\n",
    "print(Hamid)"
   ]
  },
  {
   "cell_type": "markdown",
   "id": "0afebe0e-f80e-4569-825c-37d28a2efbeb",
   "metadata": {},
   "source": [
    "### (iii) insert 56777 at end of list\n",
    "#### Solution: "
   ]
  },
  {
   "cell_type": "code",
   "execution_count": 4,
   "id": "cef40492-b206-431c-9e21-bf38fb3e1161",
   "metadata": {},
   "outputs": [
    {
     "name": "stdout",
     "output_type": "stream",
     "text": [
      "[100, -23, 33, 25, 150, -4500, 90, -71, 33, 45, 33, 54, 63, 69, 74, 78, 7206, 56777]\n"
     ]
    }
   ],
   "source": [
    "Hamid.append(56777)\n",
    "print(Hamid)"
   ]
  },
  {
   "cell_type": "markdown",
   "id": "286ce2e5-f55f-4ade-ba65-9b62a955e15f",
   "metadata": {},
   "source": [
    "### (iv) maximum value\n",
    "#### Solution: "
   ]
  },
  {
   "cell_type": "code",
   "execution_count": 5,
   "id": "59336ad8-488d-4b4c-ba3c-8c1f3f8ccbb1",
   "metadata": {},
   "outputs": [
    {
     "name": "stdout",
     "output_type": "stream",
     "text": [
      "Maximum Value: 56777\n"
     ]
    }
   ],
   "source": [
    "print(f\"Maximum Value: {max(Hamid)}\")"
   ]
  },
  {
   "cell_type": "markdown",
   "id": "6ebf24f8-1f8f-47b0-b564-0f40255128b3",
   "metadata": {},
   "source": [
    "### (v) minimum value \n",
    "#### Solution: "
   ]
  },
  {
   "cell_type": "code",
   "execution_count": 6,
   "id": "1b5c2bd3-e125-46da-babe-d83037f6dc82",
   "metadata": {},
   "outputs": [
    {
     "name": "stdout",
     "output_type": "stream",
     "text": [
      "Minimum Value: -4500\n"
     ]
    }
   ],
   "source": [
    "\n",
    "print(f\"Minimum Value: {min(Hamid)}\")"
   ]
  },
  {
   "cell_type": "markdown",
   "id": "bea8a06b-ebfa-42a9-a1eb-806777e9889a",
   "metadata": {},
   "source": [
    "### (vi) Put even values in array of even numbers\n",
    "#### Solution: "
   ]
  },
  {
   "cell_type": "code",
   "execution_count": 7,
   "id": "ce537706-1728-4a24-b689-9ed6809a8ba9",
   "metadata": {},
   "outputs": [
    {
     "name": "stdout",
     "output_type": "stream",
     "text": [
      "Even List: \n",
      "[100, 150, -4500, 90, 54, 74, 78, 7206]\n"
     ]
    }
   ],
   "source": [
    "even = []\n",
    "for value in Hamid: \n",
    "    if value%2 == 0:\n",
    "        even.append(value)\n",
    "print(\"Even List: \")\n",
    "print(even)"
   ]
  },
  {
   "cell_type": "markdown",
   "id": "86d05632-953a-4c05-acd3-ff1595a0d56d",
   "metadata": {},
   "source": [
    "### (vii) Put odd values in array of odd numbers \n",
    "#### Solution: "
   ]
  },
  {
   "cell_type": "code",
   "execution_count": 8,
   "id": "34449b6a-80d9-45bf-88f7-9d7f4e722bfd",
   "metadata": {},
   "outputs": [
    {
     "name": "stdout",
     "output_type": "stream",
     "text": [
      "Odd List: \n",
      "[-23, 33, 25, -71, 33, 45, 33, 63, 69, 56777]\n"
     ]
    }
   ],
   "source": [
    "odd = []\n",
    "for value in Hamid:\n",
    "    if value%2 != 0: \n",
    "        odd.append(value)\n",
    "print(\"Odd List: \")\n",
    "print(odd)"
   ]
  },
  {
   "cell_type": "markdown",
   "id": "ef1784fd-9c5e-48f4-9d59-63af0680fb08",
   "metadata": {},
   "source": [
    "### (viii) Put positive values in array of positive numbers \n",
    "#### Solution: "
   ]
  },
  {
   "cell_type": "code",
   "execution_count": 9,
   "id": "b9e63258-098f-49d8-91c0-803cd180e988",
   "metadata": {},
   "outputs": [
    {
     "name": "stdout",
     "output_type": "stream",
     "text": [
      "Positive List: \n",
      "[100, 33, 25, 150, 90, 33, 45, 33, 54, 63, 69, 74, 78, 7206, 56777]\n"
     ]
    }
   ],
   "source": [
    "positive = []\n",
    "for value in Hamid: \n",
    "    if value >=0:\n",
    "        positive.append(value)\n",
    "print(\"Positive List: \")\n",
    "print(positive)"
   ]
  },
  {
   "cell_type": "markdown",
   "id": "dba46beb-22a6-4a4e-8dc4-ff9463466287",
   "metadata": {},
   "source": [
    "### (ix) Put negative values in array of negative numbers \n",
    "#### Solution: "
   ]
  },
  {
   "cell_type": "code",
   "execution_count": 10,
   "id": "4cc2d186-02d8-4e4b-88a5-cea7f9607bc3",
   "metadata": {},
   "outputs": [
    {
     "name": "stdout",
     "output_type": "stream",
     "text": [
      "Negitive List: \n",
      "[-23, -4500, -71]\n"
     ]
    }
   ],
   "source": [
    "negitive = []\n",
    "for value in Hamid:\n",
    "    if value <=0: \n",
    "        negitive.append(value)\n",
    "print(\"Negitive List: \")\n",
    "print(negitive)"
   ]
  },
  {
   "cell_type": "markdown",
   "id": "7ab35e5a-8685-43c6-9040-bbc379690c8c",
   "metadata": {},
   "source": [
    "### (x) Print sorted list\n",
    "#### Solution: "
   ]
  },
  {
   "cell_type": "code",
   "execution_count": 11,
   "id": "c6a03ecd-ad99-480e-8918-6ea84c138272",
   "metadata": {},
   "outputs": [
    {
     "name": "stdout",
     "output_type": "stream",
     "text": [
      "Sorted List: \n",
      "[-4500, -71, -23, 25, 33, 33, 33, 45, 54, 63, 69, 74, 78, 90, 100, 150, 7206, 56777]\n"
     ]
    }
   ],
   "source": [
    "sorted_Hamid = sorted(Hamid)\n",
    "print(\"Sorted List: \")\n",
    "print(sorted_Hamid)"
   ]
  },
  {
   "cell_type": "markdown",
   "id": "0bd81018-dede-4ee0-93ce-49cf751ead58",
   "metadata": {},
   "source": [
    "### (xi) Print list in ascending order \n",
    "#### Solution: "
   ]
  },
  {
   "cell_type": "code",
   "execution_count": 12,
   "id": "72b01224-ee1d-4ba2-af67-be77080eacc4",
   "metadata": {},
   "outputs": [
    {
     "name": "stdout",
     "output_type": "stream",
     "text": [
      "Ascending Order: \n",
      "[-4500, -71, -23, 25, 33, 33, 33, 45, 54, 63, 69, 74, 78, 90, 100, 150, 7206, 56777]\n"
     ]
    }
   ],
   "source": [
    "print(\"Ascending Order: \")\n",
    "print(sorted_Hamid)"
   ]
  },
  {
   "cell_type": "markdown",
   "id": "ca83736d-c04e-44ac-b111-cd220ab308b5",
   "metadata": {},
   "source": [
    "### (xii) Print list in descending order \n",
    "#### Solution: "
   ]
  },
  {
   "cell_type": "code",
   "execution_count": 13,
   "id": "70398ed3-ad95-48bb-baf5-d66695f644d0",
   "metadata": {},
   "outputs": [
    {
     "name": "stdout",
     "output_type": "stream",
     "text": [
      "Descendig Order: \n",
      "[56777, 7206, 150, 100, 90, 78, 74, 69, 63, 54, 45, 33, 33, 33, 25, -23, -71, -4500]\n"
     ]
    }
   ],
   "source": [
    "print('Descendig Order: ')\n",
    "print(sorted_Hamid[::-1])"
   ]
  },
  {
   "cell_type": "markdown",
   "id": "a22c170f-11dd-4d06-9cfd-ead3d170effe",
   "metadata": {},
   "source": [
    "### (xiii) Print values those are negative \n",
    "#### Solution: "
   ]
  },
  {
   "cell_type": "code",
   "execution_count": 14,
   "id": "da27fb20-f06f-4728-965b-d9dc7f8a7276",
   "metadata": {},
   "outputs": [
    {
     "name": "stdout",
     "output_type": "stream",
     "text": [
      "Negitive Values: \n",
      "-23 -4500 -71 "
     ]
    }
   ],
   "source": [
    "print(\"Negitive Values: \")\n",
    "for value in Hamid: \n",
    "    if value < 0:\n",
    "        print(value,end=\" \")"
   ]
  },
  {
   "cell_type": "markdown",
   "id": "f355ff9a-4b1b-4bd9-afbc-b5245885640d",
   "metadata": {},
   "source": [
    "### (xiv) Print values those are positive \n",
    "#### Solution: "
   ]
  },
  {
   "cell_type": "code",
   "execution_count": 15,
   "id": "53c7227b-8083-4bfe-b1dc-d8a251830872",
   "metadata": {},
   "outputs": [
    {
     "name": "stdout",
     "output_type": "stream",
     "text": [
      "Positive Values: \n",
      "100 33 25 150 90 33 45 33 54 63 69 74 78 7206 56777 "
     ]
    }
   ],
   "source": [
    "print(\"Positive Values: \")\n",
    "for value in Hamid: \n",
    "    if value > 0:\n",
    "        print(value,end=\" \")"
   ]
  },
  {
   "cell_type": "markdown",
   "id": "267bf4ff-968e-4a78-8c93-498af978a777",
   "metadata": {},
   "source": [
    "### (xv) Print multiplier of negative number form list \n",
    "#### Solution:"
   ]
  },
  {
   "cell_type": "code",
   "execution_count": 16,
   "id": "05d38fe0-0876-448a-808b-188bab166a9f",
   "metadata": {},
   "outputs": [
    {
     "name": "stdout",
     "output_type": "stream",
     "text": [
      "Multiplier Negative: \n",
      "-7348500\n"
     ]
    }
   ],
   "source": [
    "print(\"Multiplier Negative: \")\n",
    "mult = 1\n",
    "for value in Hamid: \n",
    "    if value < 0:\n",
    "        mult *= value\n",
    "print(mult)"
   ]
  },
  {
   "cell_type": "markdown",
   "id": "d78b2eac-9585-4418-938a-3c1549d568b1",
   "metadata": {},
   "source": [
    "### (xvi) Print multiplier of positive number form list \n",
    "#### Solution: "
   ]
  },
  {
   "cell_type": "code",
   "execution_count": 17,
   "id": "241cf391-22a0-4a89-b1e0-c802a318fdd9",
   "metadata": {},
   "outputs": [
    {
     "name": "stdout",
     "output_type": "stream",
     "text": [
      "Multiplier Positive: \n",
      "30255513777752156003810700000000\n"
     ]
    }
   ],
   "source": [
    "print(\"Multiplier Positive: \")\n",
    "mult = 1\n",
    "for value in Hamid: \n",
    "    if value > 0:\n",
    "        mult *= value\n",
    "print(mult)"
   ]
  },
  {
   "cell_type": "markdown",
   "id": "2c20df50-ed03-440a-9efc-c838cbdecf14",
   "metadata": {},
   "source": [
    "### (xvii) Take power with last two digit with your AG number and print new list  <u>(7206 take power of each element of array with 06)</u>\n",
    "#### Solution: "
   ]
  },
  {
   "cell_type": "code",
   "execution_count": 18,
   "id": "fef2817d-2c99-40c5-9419-bef870ee42ce",
   "metadata": {},
   "outputs": [
    {
     "name": "stdout",
     "output_type": "stream",
     "text": [
      "Powered List: \n",
      "[1000000000000, 148035889, 1291467969, 244140625, 11390625000000, 8303765625000000000000, 531441000000, 128100283921, 1291467969, 8303765625, 1291467969, 24794911296, 62523502209, 107918163081, 164206490176, 225199600704, 140012092653183465569856, 33499216413468186213179941489]\n"
     ]
    }
   ],
   "source": [
    "powered_Hamid = [] \n",
    "for value in Hamid: \n",
    "    powered_Hamid.append(pow(value,6))\n",
    "print(\"Powered List: \")\n",
    "print(powered_Hamid)"
   ]
  },
  {
   "cell_type": "markdown",
   "id": "f9b533ba-b9ec-4b6c-8aeb-faca7abc8e81",
   "metadata": {},
   "source": [
    "### (xviii) Sort and print array in assending order\n",
    "#### Solution: "
   ]
  },
  {
   "cell_type": "code",
   "execution_count": 19,
   "id": "c84ba28a-7cff-4a2c-a43e-5c79b6b8feef",
   "metadata": {},
   "outputs": [
    {
     "name": "stdout",
     "output_type": "stream",
     "text": [
      "Sorted List: [-4500, -71, -23, 25, 33, 33, 33, 45, 54, 63, 69, 74, 78, 90, 100, 150, 7206, 56777]\n"
     ]
    }
   ],
   "source": [
    "print(f\"Sorted List: {sorted(Hamid)}\")"
   ]
  },
  {
   "cell_type": "markdown",
   "id": "dd6b1f40-1476-4cec-8578-2d9afb0eb080",
   "metadata": {},
   "source": [
    "###  (xix) Sort and print array in descending order \n",
    "#### Solution: "
   ]
  },
  {
   "cell_type": "code",
   "execution_count": 20,
   "id": "b47c5a6e-0341-4821-b607-3c2881b692ad",
   "metadata": {},
   "outputs": [
    {
     "name": "stdout",
     "output_type": "stream",
     "text": [
      "Sorted List in Descending Order: \n",
      "[56777, 7206, 150, 100, 90, 78, 74, 69, 63, 54, 45, 33, 33, 33, 25, -23, -71, -4500]\n"
     ]
    }
   ],
   "source": [
    "sorted_Hamid = sorted(Hamid)\n",
    "print(\"Sorted List in Descending Order: \")\n",
    "print(sorted_Hamid[::-1])"
   ]
  },
  {
   "cell_type": "markdown",
   "id": "d97eb20a-a016-47e4-aa09-382e8328e4b0",
   "metadata": {},
   "source": [
    "### (xx) Print numbers which are easily dividable on 5 \n",
    "#### Solution: "
   ]
  },
  {
   "cell_type": "code",
   "execution_count": 21,
   "id": "008c91d2-ef82-4f0c-a2b8-d459a782f813",
   "metadata": {},
   "outputs": [
    {
     "name": "stdout",
     "output_type": "stream",
     "text": [
      "Numbers Easily Dividable on 5\n",
      "100 25 150 -4500 90 45 "
     ]
    }
   ],
   "source": [
    "print(\"Numbers Easily Dividable on 5\")\n",
    "for value in Hamid: \n",
    "    if value%5 == 0:\n",
    "        print(value,end=\" \")"
   ]
  },
  {
   "cell_type": "markdown",
   "id": "45c88e58-a3a2-49e5-8884-3c02a91726ce",
   "metadata": {},
   "source": [
    "### (xxi) Remove most repetitive value from list. \n",
    "#### Solution: "
   ]
  },
  {
   "cell_type": "code",
   "execution_count": 22,
   "id": "7357dacd-a0e4-446a-8b52-fda9077517f3",
   "metadata": {},
   "outputs": [
    {
     "name": "stdout",
     "output_type": "stream",
     "text": [
      "List with No Repetation: \n",
      "[100, -23, 33, 25, 150, -4500, 90, -71, 45, 54, 63, 69, 74, 78, 7206, 56777]\n"
     ]
    }
   ],
   "source": [
    "check = []\n",
    "for value in Hamid:\n",
    "    if value not in check:\n",
    "        check.append(value)\n",
    "print(\"List with No Repetation: \")\n",
    "print(check)"
   ]
  },
  {
   "cell_type": "markdown",
   "id": "2e81b734-a849-41b9-a12a-0dd427d46fb3",
   "metadata": {},
   "source": [
    "## Q2: initialize a list which contained 20 types of different fruits and vegetables."
   ]
  },
  {
   "cell_type": "code",
   "execution_count": 22,
   "id": "38f6ca06-104e-455f-a991-6940c2ee63f2",
   "metadata": {},
   "outputs": [
    {
     "name": "stdout",
     "output_type": "stream",
     "text": [
      "20 Fruits and Vegitables: \n",
      "['apple', 'banana', 'orange', 'grape', 'mango', 'carrot', 'potato', 'tomato', 'onion', 'cabbage', 'peach', 'plum', 'pear', 'kiwi', 'melon', 'spinach', 'broccoli', 'cucumber', 'lettuce', 'beetroot']\n"
     ]
    }
   ],
   "source": [
    "items = [\"apple\", \"banana\", \"orange\", \"grape\", \"mango\",\"carrot\", \"potato\", \"tomato\", \"onion\", \"cabbage\",\"peach\", \"plum\", \"pear\", \"kiwi\", \"melon\",\"spinach\", \"broccoli\", \"cucumber\", \"lettuce\", \"beetroot\"]\n",
    "print(\"20 Fruits and Vegitables: \")\n",
    "print(items)"
   ]
  },
  {
   "cell_type": "markdown",
   "id": "6f038a39-0b2e-465b-bb6b-a96b40ff8d81",
   "metadata": {},
   "source": [
    "### (i) Print number of characters of each fruit \n",
    "#### Solution: "
   ]
  },
  {
   "cell_type": "code",
   "execution_count": 23,
   "id": "895ab986-ec2b-45d1-91f8-0d89dbe8d3fc",
   "metadata": {},
   "outputs": [
    {
     "name": "stdout",
     "output_type": "stream",
     "text": [
      "Items : Length\n",
      "apple  :  5\n",
      "banana  :  6\n",
      "orange  :  6\n",
      "grape  :  5\n",
      "mango  :  5\n",
      "carrot  :  6\n",
      "potato  :  6\n",
      "tomato  :  6\n",
      "onion  :  5\n",
      "cabbage  :  7\n",
      "peach  :  5\n",
      "plum  :  4\n",
      "pear  :  4\n",
      "kiwi  :  4\n",
      "melon  :  5\n",
      "spinach  :  7\n",
      "broccoli  :  8\n",
      "cucumber  :  8\n",
      "lettuce  :  7\n",
      "beetroot  :  8\n"
     ]
    }
   ],
   "source": [
    "print(\"Items : Length\")\n",
    "for item in items: \n",
    "    print(item,\" : \",len(item))"
   ]
  },
  {
   "cell_type": "markdown",
   "id": "bb687d7e-d512-4f2a-a0c1-fd4e5b429573",
   "metadata": {},
   "source": [
    "### (ii) Print those fruits or vegetables which consisted of 4 characters \n",
    "#### Solution: "
   ]
  },
  {
   "cell_type": "code",
   "execution_count": 24,
   "id": "3464a57a-0d19-4ac8-be86-7098d65c8cc3",
   "metadata": {},
   "outputs": [
    {
     "name": "stdout",
     "output_type": "stream",
     "text": [
      "Names of Fruits/Vegitables consisted 4 char: \n",
      "plum\n",
      "pear\n",
      "kiwi\n"
     ]
    }
   ],
   "source": [
    "print(\"Names of Fruits/Vegitables consisted 4 char: \")\n",
    "for item in items: \n",
    "    if len(item) == 4:\n",
    "        print(item)"
   ]
  },
  {
   "cell_type": "markdown",
   "id": "db0d4c12-acfc-4e29-b341-daa34f3fe86f",
   "metadata": {},
   "source": [
    "### (iii) Print those fruits or vegetables which consisted of greater than 5 characters \n",
    "#### Solution: "
   ]
  },
  {
   "cell_type": "code",
   "execution_count": 25,
   "id": "213123cb-0ca6-4331-ab01-74f7af389de0",
   "metadata": {},
   "outputs": [
    {
     "name": "stdout",
     "output_type": "stream",
     "text": [
      "Names of Fruits/Vegitables consisted >5 char: \n",
      "banana\n",
      "orange\n",
      "carrot\n",
      "potato\n",
      "tomato\n",
      "cabbage\n",
      "spinach\n",
      "broccoli\n",
      "cucumber\n",
      "lettuce\n",
      "beetroot\n"
     ]
    }
   ],
   "source": [
    "print(\"Names of Fruits/Vegitables consisted >5 char: \")\n",
    "for item in items: \n",
    "    if len(item) > 5:\n",
    "        print(item)"
   ]
  },
  {
   "cell_type": "markdown",
   "id": "492dd955-5258-4092-a5b5-f6ea15141bff",
   "metadata": {},
   "source": [
    "### (iv) Print that fruit which contain ‘a’ character \n",
    "#### Solution: "
   ]
  },
  {
   "cell_type": "code",
   "execution_count": 26,
   "id": "a1df7803-2383-4a6b-9c16-b411153fe0f2",
   "metadata": {},
   "outputs": [
    {
     "name": "stdout",
     "output_type": "stream",
     "text": [
      "Fruits/Vegitables Containg 'a': \n",
      "apple\n",
      "banana\n",
      "orange\n",
      "grape\n",
      "mango\n",
      "carrot\n",
      "potato\n",
      "tomato\n",
      "cabbage\n",
      "peach\n",
      "pear\n",
      "spinach\n"
     ]
    }
   ],
   "source": [
    "print(\"Fruits/Vegitables Containg 'a': \")\n",
    "for item in items:\n",
    "    if 'a' in item:\n",
    "        print(item)"
   ]
  },
  {
   "cell_type": "markdown",
   "id": "5f213f8f-f2c6-4cba-ab4e-1613e4ddfc98",
   "metadata": {},
   "source": [
    "### (v) Print sorted list \n",
    "#### Solution: "
   ]
  },
  {
   "cell_type": "code",
   "execution_count": 27,
   "id": "8327f2a2-303f-4633-b462-fd645982bc86",
   "metadata": {},
   "outputs": [
    {
     "name": "stdout",
     "output_type": "stream",
     "text": [
      "Sorted List: ['apple', 'banana', 'beetroot', 'broccoli', 'cabbage', 'carrot', 'cucumber', 'grape', 'kiwi', 'lettuce', 'mango', 'melon', 'onion', 'orange', 'peach', 'pear', 'plum', 'potato', 'spinach', 'tomato']\n"
     ]
    }
   ],
   "source": [
    "print(f\"Sorted List: {sorted(items)}\")"
   ]
  },
  {
   "cell_type": "markdown",
   "id": "fcb411a6-bae8-4b28-8c0f-9a1b2e4b4e47",
   "metadata": {},
   "source": [
    "### (vi) Print that fruit which has even number of characters \n",
    "#### Solution: "
   ]
  },
  {
   "cell_type": "code",
   "execution_count": 28,
   "id": "a3cf948c-92f9-4dda-9e48-f1ffab76da80",
   "metadata": {},
   "outputs": [
    {
     "name": "stdout",
     "output_type": "stream",
     "text": [
      "Fruits having Even Number of Char: \n",
      "banana  :  6\n",
      "orange  :  6\n",
      "carrot  :  6\n",
      "potato  :  6\n",
      "tomato  :  6\n",
      "plum  :  4\n",
      "pear  :  4\n",
      "kiwi  :  4\n",
      "broccoli  :  8\n",
      "cucumber  :  8\n",
      "beetroot  :  8\n"
     ]
    }
   ],
   "source": [
    "print(\"Fruits having Even Number of Char: \")\n",
    "for item in items: \n",
    "    if len(item)%2 == 0: \n",
    "        print(item,\" : \",len(item))"
   ]
  },
  {
   "cell_type": "markdown",
   "id": "de5e2d8f-7f87-465e-93b7-a349cd58686a",
   "metadata": {},
   "source": [
    "## Q3: Manipulate your AG number on following way with use array."
   ]
  },
  {
   "cell_type": "markdown",
   "id": "71981ee8-196e-4e7b-8345-5ede7f292157",
   "metadata": {},
   "source": [
    "### (i) Insert your ag number charter by character in list 2020-ag-6660 \n",
    "#### Solution: "
   ]
  },
  {
   "cell_type": "code",
   "execution_count": 29,
   "id": "3108cd8d-951e-461f-997b-37a9342ff88b",
   "metadata": {},
   "outputs": [
    {
     "name": "stdin",
     "output_type": "stream",
     "text": [
      "Enter your Ag Number:  2020-ag-6660\n"
     ]
    },
    {
     "name": "stdout",
     "output_type": "stream",
     "text": [
      "Ag Number: ['2', '0', '2', '0', '-', 'a', 'g', '-', '6', '6', '6', '0']\n"
     ]
    }
   ],
   "source": [
    "ag = input(\"Enter your Ag Number: \")\n",
    "my_list = []\n",
    "for ch in ag:\n",
    "    my_list.append(ch) \n",
    "print(f\"Ag Number: {my_list}\")"
   ]
  },
  {
   "cell_type": "markdown",
   "id": "1c9ff477-ab25-4e71-8bbb-5e7309281273",
   "metadata": {},
   "source": [
    "### (ii) Replace 2020 to 2030 \n",
    "### Solution: "
   ]
  },
  {
   "cell_type": "code",
   "execution_count": 30,
   "id": "990107ac-f7cc-4a8c-a5c6-c50cede551a1",
   "metadata": {},
   "outputs": [
    {
     "name": "stdout",
     "output_type": "stream",
     "text": [
      "Replaced 2020 to 2030: \n",
      "['2', '0', '3', '0', '-', 'a', 'g', '-', '6', '6', '6', '0']\n"
     ]
    }
   ],
   "source": [
    "print(\"Replaced 2020 to 2030: \")\n",
    "my_list[2] = '3'\n",
    "print(my_list)"
   ]
  },
  {
   "cell_type": "markdown",
   "id": "bfd000e2-91f6-44a2-981f-422585177096",
   "metadata": {},
   "source": [
    "### (iii) Replace last 4 digits with **** \n",
    "#### Solution: "
   ]
  },
  {
   "cell_type": "code",
   "execution_count": 31,
   "id": "0a9b3f84-7d3e-4a44-b489-6701f96af249",
   "metadata": {},
   "outputs": [
    {
     "name": "stdout",
     "output_type": "stream",
     "text": [
      "['2', '0', '3', '0', '-', 'a', 'g', '-', '*', '*', '*', '*']\n"
     ]
    }
   ],
   "source": [
    "my_list = my_list[:len(my_list)-4]+[\"*\",\"*\",\"*\",\"*\"]\n",
    "print(my_list)"
   ]
  },
  {
   "cell_type": "markdown",
   "id": "16ca3086-547a-4b11-be36-0e9d4254330a",
   "metadata": {},
   "source": [
    "### (iv) Print ag number such a way @2020*-*ag*-*6660@\n",
    "#### Solution: "
   ]
  },
  {
   "cell_type": "code",
   "execution_count": 32,
   "id": "3d817f99-7ab6-4599-805a-d4190646429b",
   "metadata": {},
   "outputs": [
    {
     "name": "stdout",
     "output_type": "stream",
     "text": [
      "@2020*-*ag*-*6660@"
     ]
    }
   ],
   "source": [
    "my_list = ['@']+my_list[:2]+['2','0']+['*']+[my_list[4]]+['*']+my_list[5:7]+['*']+[my_list[7]]+['*']+['6','6','6','0']+['@']\n",
    "for letter in my_list:\n",
    "    print(letter,end=\"\")"
   ]
  }
 ],
 "metadata": {
  "kernelspec": {
   "display_name": "Python 3 (ipykernel)",
   "language": "python",
   "name": "python3"
  },
  "language_info": {
   "codemirror_mode": {
    "name": "ipython",
    "version": 3
   },
   "file_extension": ".py",
   "mimetype": "text/x-python",
   "name": "python",
   "nbconvert_exporter": "python",
   "pygments_lexer": "ipython3",
   "version": "3.12.7"
  }
 },
 "nbformat": 4,
 "nbformat_minor": 5
}
