{
 "cells": [
  {
   "cell_type": "markdown",
   "id": "1c8a5c62-2ce7-4f7b-9354-bd0b88afeb2a",
   "metadata": {},
   "source": [
    "# First Program"
   ]
  },
  {
   "cell_type": "markdown",
   "id": "9b5d98bc-a273-4784-8e8f-6f12ac8a1ee2",
   "metadata": {},
   "source": [
    "## Sub code"
   ]
  },
  {
   "cell_type": "code",
   "execution_count": 1,
   "id": "a0ff8dee-fee7-438b-aace-4cdd90696c1d",
   "metadata": {},
   "outputs": [
    {
     "name": "stdout",
     "output_type": "stream",
     "text": [
      "6\n"
     ]
    }
   ],
   "source": [
    "a,b,c = 1,2,3\n",
    "print(a+b+c)"
   ]
  },
  {
   "cell_type": "code",
   "execution_count": 5,
   "id": "03374c0c-9e0c-413d-83cd-094e763adea4",
   "metadata": {},
   "outputs": [
    {
     "name": "stdout",
     "output_type": "stream",
     "text": [
      "<class 'int'>\n",
      "45\n"
     ]
    }
   ],
   "source": [
    "a = 45 \n",
    "print(type(a))\n",
    "print(a)"
   ]
  },
  {
   "cell_type": "code",
   "execution_count": 6,
   "id": "9f649ea2-cac6-4215-967f-c058b2a872aa",
   "metadata": {},
   "outputs": [
    {
     "name": "stdout",
     "output_type": "stream",
     "text": [
      "<class 'float'>\n",
      "45.5\n"
     ]
    }
   ],
   "source": [
    "a = 45.5 \n",
    "print(type(a))\n",
    "print(a)"
   ]
  },
  {
   "cell_type": "code",
   "execution_count": 8,
   "id": "a7b7ab5c-724c-462a-97b6-042dfe3e191e",
   "metadata": {},
   "outputs": [
    {
     "name": "stdout",
     "output_type": "stream",
     "text": [
      "79.55\n"
     ]
    }
   ],
   "source": [
    "a = 23.55\n",
    "b = 56 \n",
    "print(a+b)"
   ]
  },
  {
   "cell_type": "code",
   "execution_count": 21,
   "id": "1411837d-007c-4302-9411-50197bbcf9c0",
   "metadata": {},
   "outputs": [
    {
     "name": "stdout",
     "output_type": "stream",
     "text": [
      "Pakistan UAF Hamid\n",
      "Pakistan UAF Hamid\n",
      "<class 'str'>\n"
     ]
    }
   ],
   "source": [
    "name = \"Pakistan\"\n",
    "name1 = \"UAF\"\n",
    "name2 = \"Hamid\"\n",
    "\n",
    "print(name + \" \" + name1 + \" \" + name2)\n",
    "print(name , name1 , name2)\n",
    "\n",
    "print(type(name))"
   ]
  },
  {
   "cell_type": "code",
   "execution_count": 33,
   "id": "fa8f74f7-4452-44e5-9d74-ce58bfcbb790",
   "metadata": {},
   "outputs": [
    {
     "name": "stdout",
     "output_type": "stream",
     "text": [
      "32\n",
      "PAKISTAN UAF LOCATED IN BUREWALA\n",
      "pakistan uaf located in burewala\n",
      "alaweruB ni detacol FAU natsikaP\n",
      "UAF\n",
      "aaeu idtclFUntia\n"
     ]
    }
   ],
   "source": [
    "string = 'Pakistan UAF located in Burewala'\n",
    "\n",
    "print(len(string))\n",
    "print(string.upper())\n",
    "print(string.lower())\n",
    "\n",
    "# string slicing\n",
    "print(string[::-1])  \n",
    "print(string[9:12])\n",
    "print(string[::-2])"
   ]
  },
  {
   "cell_type": "code",
   "execution_count": 37,
   "id": "84c8e1f0-1df8-4dd3-9c0d-23870ceb79a2",
   "metadata": {},
   "outputs": [
    {
     "name": "stdout",
     "output_type": "stream",
     "text": [
      "***akistan UAF located in Burewal$$$\n"
     ]
    }
   ],
   "source": [
    "print('***'+string[1:31:]+\"$$$\")"
   ]
  },
  {
   "cell_type": "code",
   "execution_count": 39,
   "id": "be7515bb-c453-4fc7-8908-5a92f5a3bcd5",
   "metadata": {},
   "outputs": [
    {
     "name": "stdout",
     "output_type": "stream",
     "text": [
      "alaweruB ni detacol FAU natsikaP\n"
     ]
    }
   ],
   "source": [
    "print(string[::-1])"
   ]
  },
  {
   "cell_type": "code",
   "execution_count": 43,
   "id": "56f6e8fc-b127-4270-a8be-2dbb33b5f0af",
   "metadata": {},
   "outputs": [
    {
     "name": "stdout",
     "output_type": "stream",
     "text": [
      "UAF \n",
      "UAF \n",
      "UAF \n",
      "UAF \n",
      "UAF \n",
      "UAF \n",
      "UAF \n",
      "UAF \n",
      "UAF \n",
      "UAF \n",
      "\n"
     ]
    }
   ],
   "source": [
    "name = 'UAF \\n'\n",
    "print(name * 10)"
   ]
  },
  {
   "cell_type": "code",
   "execution_count": 45,
   "id": "aede77dc-46f9-45ac-9c3d-5b05c6ddb45d",
   "metadata": {},
   "outputs": [
    {
     "name": "stdout",
     "output_type": "stream",
     "text": [
      "*\n",
      "**\n",
      "***\n",
      "****\n",
      "*****\n"
     ]
    }
   ],
   "source": [
    "print('*\\n**\\n***\\n****\\n*****')"
   ]
  },
  {
   "cell_type": "code",
   "execution_count": 49,
   "id": "8d1e7d4f-a601-488e-aa8a-75e0ee5b615b",
   "metadata": {},
   "outputs": [
    {
     "name": "stdin",
     "output_type": "stream",
     "text": [
      "Enter a Number:  1\n",
      "Enter a Number:  2\n"
     ]
    },
    {
     "name": "stdout",
     "output_type": "stream",
     "text": [
      "<class 'int'> <class 'int'>\n",
      "Sum = 3\n"
     ]
    }
   ],
   "source": [
    "a = int(input(\"Enter a Number: \"))\n",
    "b = int(input(\"Enter a Number: \"))\n",
    "print(type(a), type(b))\n",
    "print(f'Sum = {a+b}')"
   ]
  },
  {
   "cell_type": "code",
   "execution_count": 64,
   "id": "9917abfa-b31a-496d-a004-42c1ae43c06f",
   "metadata": {},
   "outputs": [
    {
     "name": "stdout",
     "output_type": "stream",
     "text": [
      "21.428571428571427\n"
     ]
    }
   ],
   "source": [
    "a = 10\n",
    "b = 20 \n",
    "c = 30 \n",
    "d = 40 \n",
    "f = 50\n",
    "print( (a+b) / (c+d) * f )"
   ]
  },
  {
   "cell_type": "code",
   "execution_count": 61,
   "id": "2c4ac8e8-d32d-4273-a8db-d9de89292ad7",
   "metadata": {},
   "outputs": [
    {
     "data": {
      "text/plain": [
       "100"
      ]
     },
     "execution_count": 61,
     "metadata": {},
     "output_type": "execute_result"
    }
   ],
   "source": [
    "a**2"
   ]
  },
  {
   "cell_type": "code",
   "execution_count": 63,
   "id": "547ea75a-5c7a-4802-89fd-16cd818d7155",
   "metadata": {},
   "outputs": [
    {
     "name": "stdout",
     "output_type": "stream",
     "text": [
      "25\n"
     ]
    }
   ],
   "source": [
    "print(pow(5,2))  # Power Method"
   ]
  },
  {
   "cell_type": "code",
   "execution_count": 65,
   "id": "8c6c67d1-6231-4fd7-a8c6-f5a2af4d8791",
   "metadata": {},
   "outputs": [
    {
     "name": "stdout",
     "output_type": "stream",
     "text": [
      "My name is Hamid and i am 20 year old!\n"
     ]
    }
   ],
   "source": [
    "name = \"Hamid\"\n",
    "age = 20\n",
    "print(f'My name is {name} and i am {age} year old!')"
   ]
  },
  {
   "cell_type": "code",
   "execution_count": null,
   "id": "25412ace-7d4c-4d23-944b-3ed3c5f1061a",
   "metadata": {},
   "outputs": [],
   "source": []
  }
 ],
 "metadata": {
  "kernelspec": {
   "display_name": "Python 3 (ipykernel)",
   "language": "python",
   "name": "python3"
  },
  "language_info": {
   "codemirror_mode": {
    "name": "ipython",
    "version": 3
   },
   "file_extension": ".py",
   "mimetype": "text/x-python",
   "name": "python",
   "nbconvert_exporter": "python",
   "pygments_lexer": "ipython3",
   "version": "3.12.7"
  }
 },
 "nbformat": 4,
 "nbformat_minor": 5
}
