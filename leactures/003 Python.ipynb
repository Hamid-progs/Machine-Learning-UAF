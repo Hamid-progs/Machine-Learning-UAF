{
 "cells": [
  {
   "cell_type": "markdown",
   "id": "56314e91-344e-4af5-aebb-7ccdc5c43c04",
   "metadata": {},
   "source": [
    "# Python Leacture 3"
   ]
  },
  {
   "cell_type": "markdown",
   "id": "3f4875d9-e9f4-4de0-b3ec-813244049c19",
   "metadata": {},
   "source": [
    "## List"
   ]
  },
  {
   "cell_type": "markdown",
   "id": "3fdab130-1609-42ae-9756-714ad736f533",
   "metadata": {},
   "source": [
    "list have different type of data not dependent on datatype"
   ]
  },
  {
   "cell_type": "markdown",
   "id": "2d216401-5715-4465-a8a4-7364c495b0a1",
   "metadata": {},
   "source": [
    "<u><b>Note:</b></u>  Difference between method and fucntion is that ,  method requires \"object\" where as function doesnot require object it requires parameters."
   ]
  },
  {
   "cell_type": "code",
   "execution_count": 5,
   "id": "99c217b1-b417-4e24-9a2c-aecee2833da4",
   "metadata": {},
   "outputs": [
    {
     "name": "stdout",
     "output_type": "stream",
     "text": [
      "<class 'list'>\n",
      "6\n"
     ]
    }
   ],
   "source": [
    "mylist = [1,3,4,6,7,8]\n",
    "print(type(mylist))\n",
    "print(len(mylist))"
   ]
  },
  {
   "cell_type": "code",
   "execution_count": 2,
   "id": "c5c7dd8e-dc0e-4614-a1ea-dd8e86c4c140",
   "metadata": {},
   "outputs": [
    {
     "name": "stdout",
     "output_type": "stream",
     "text": [
      "[8, 7, 6, 4, 3, 1]\n"
     ]
    }
   ],
   "source": [
    "# print value on first index\n",
    "print(mylist[::-1])"
   ]
  },
  {
   "cell_type": "code",
   "execution_count": 3,
   "id": "face8aa6-0c91-4e9a-b03f-af2ec88743d3",
   "metadata": {},
   "outputs": [
    {
     "name": "stdout",
     "output_type": "stream",
     "text": [
      "[3, 4, 6, 7]\n"
     ]
    }
   ],
   "source": [
    "# print form 3 to 7 \n",
    "print(mylist[1:5])"
   ]
  },
  {
   "cell_type": "code",
   "execution_count": 8,
   "id": "da818455-0abb-4d6b-83ca-35081629b78c",
   "metadata": {},
   "outputs": [
    {
     "name": "stdout",
     "output_type": "stream",
     "text": [
      "[1, 3, 4, 6, 7, 8, 5000, 1000, -1000]\n"
     ]
    }
   ],
   "source": [
    "# adding 5000,1000 and -1000\n",
    "mylist.append(-1000)\n",
    "print(mylist)"
   ]
  },
  {
   "cell_type": "code",
   "execution_count": 10,
   "id": "faea81c6-b67f-4d43-ba69-363cbfe2d076",
   "metadata": {},
   "outputs": [
    {
     "name": "stdout",
     "output_type": "stream",
     "text": [
      "[1, 3, 4, -3000, 3000, 6, 7, 8, 5000, 1000, -1000]\n"
     ]
    }
   ],
   "source": [
    "# insert values\n",
    "mylist.insert(4,3000)   # insert(position, value)\n",
    "print(mylist)"
   ]
  },
  {
   "cell_type": "code",
   "execution_count": 11,
   "id": "3cb7d8e6-2c0a-4b3c-b8f7-d0b768ab466b",
   "metadata": {},
   "outputs": [
    {
     "name": "stdout",
     "output_type": "stream",
     "text": [
      "[1, 3, 4, -3000, 3000, 6, 7, 8, 5000, 1000, -1000, 500, -500]\n"
     ]
    }
   ],
   "source": [
    "# use of extend \n",
    "mylist.extend([500,-500])\n",
    "print(mylist)"
   ]
  },
  {
   "cell_type": "code",
   "execution_count": 12,
   "id": "0656a6ad-f6cc-4088-b2e6-bcacd16f3f46",
   "metadata": {},
   "outputs": [
    {
     "name": "stdout",
     "output_type": "stream",
     "text": [
      "13\n"
     ]
    }
   ],
   "source": [
    "# length of list\n",
    "print(len(mylist))"
   ]
  },
  {
   "cell_type": "code",
   "execution_count": 13,
   "id": "b984c63f-91ed-4713-aca2-72a272cd752d",
   "metadata": {},
   "outputs": [
    {
     "data": {
      "text/plain": [
       "-500"
      ]
     },
     "execution_count": 13,
     "metadata": {},
     "output_type": "execute_result"
    }
   ],
   "source": [
    "# use of pop\n",
    "mylist.pop()"
   ]
  },
  {
   "cell_type": "code",
   "execution_count": 14,
   "id": "43a1343a-66fc-45fb-bfc2-f9c50209ca23",
   "metadata": {},
   "outputs": [
    {
     "name": "stdout",
     "output_type": "stream",
     "text": [
      "[1, 3, 4, -3000, 3000, 6, 7, 8, 5000, 1000, -1000, 500]\n"
     ]
    }
   ],
   "source": [
    "print(mylist)"
   ]
  },
  {
   "cell_type": "code",
   "execution_count": 21,
   "id": "4a3a8781-f05a-481f-9385-08524293cbd9",
   "metadata": {},
   "outputs": [
    {
     "data": {
      "text/plain": [
       "8"
      ]
     },
     "execution_count": 21,
     "metadata": {},
     "output_type": "execute_result"
    }
   ],
   "source": [
    "# using pop using index \n",
    "mylist.pop(4)"
   ]
  },
  {
   "cell_type": "code",
   "execution_count": 22,
   "id": "23538b43-0e8f-48b3-bfb8-14bee6a11d8f",
   "metadata": {},
   "outputs": [
    {
     "name": "stdout",
     "output_type": "stream",
     "text": [
      "[-3000, 3000, 6, 7, 5000, 1000, -1000, 500]\n"
     ]
    }
   ],
   "source": [
    "print(mylist)"
   ]
  },
  {
   "cell_type": "code",
   "execution_count": 24,
   "id": "5f502ca1-4c71-4318-830e-a3adb9c7d22f",
   "metadata": {},
   "outputs": [
    {
     "name": "stdout",
     "output_type": "stream",
     "text": [
      "[-3000, 3000, 6, 5000, 1000, 500]\n"
     ]
    }
   ],
   "source": [
    "# use of remove\n",
    "mylist.remove(-1000)\n",
    "print(mylist)"
   ]
  },
  {
   "cell_type": "code",
   "execution_count": 25,
   "id": "ba32643e-0190-48b8-91e7-329a9b932899",
   "metadata": {},
   "outputs": [
    {
     "name": "stdout",
     "output_type": "stream",
     "text": [
      "[-3000, 3000, 6, 5000, 1000, 500, 60, 300, -12]\n"
     ]
    }
   ],
   "source": [
    "mylist.extend([60,300,-12])\n",
    "print(mylist)"
   ]
  },
  {
   "cell_type": "code",
   "execution_count": 26,
   "id": "3c996778-6207-42cb-852d-d235c4ff873c",
   "metadata": {},
   "outputs": [
    {
     "name": "stdout",
     "output_type": "stream",
     "text": [
      "[-3000, -12, 6, 60, 300, 500, 1000, 3000, 5000]\n"
     ]
    }
   ],
   "source": [
    "# use of sorted\n",
    "print(sorted(mylist)) # it will not do parmanent change!"
   ]
  },
  {
   "cell_type": "code",
   "execution_count": 28,
   "id": "3df7efed-a56d-4793-867f-eccc09f73730",
   "metadata": {},
   "outputs": [
    {
     "name": "stdout",
     "output_type": "stream",
     "text": [
      "[-3000, 3000, 6, 5000, 1000, 500, 60, 300, -12]\n"
     ]
    }
   ],
   "source": [
    "print(mylist)    # checked it dont did parmanent change!"
   ]
  },
  {
   "cell_type": "code",
   "execution_count": 29,
   "id": "5336c49a-74a8-4e44-8671-f4ff1af32581",
   "metadata": {},
   "outputs": [
    {
     "name": "stdout",
     "output_type": "stream",
     "text": [
      "[-3000, -12, 6, 60, 300, 500, 1000, 3000, 5000]\n"
     ]
    }
   ],
   "source": [
    "# how to work with sorted! \n",
    "mylist = sorted(mylist)\n",
    "print(mylist)"
   ]
  },
  {
   "cell_type": "code",
   "execution_count": 31,
   "id": "3e90f4b9-1169-4a9b-9ba9-79a475ca9207",
   "metadata": {},
   "outputs": [
    {
     "name": "stdout",
     "output_type": "stream",
     "text": [
      "[-3000, -12, 6, 60, 300, 500, 1000, 3000, 5000]\n",
      "6854\n",
      "5000\n",
      "-3000\n"
     ]
    }
   ],
   "source": [
    "# some built in fuctions \n",
    "print(mylist)\n",
    "print(sum(mylist))\n",
    "print(max(mylist))\n",
    "print(min(mylist))"
   ]
  },
  {
   "cell_type": "code",
   "execution_count": 38,
   "id": "1b9cf436-1067-4713-8dac-01d854158ce1",
   "metadata": {},
   "outputs": [
    {
     "name": "stdout",
     "output_type": "stream",
     "text": [
      "i. print index\n",
      "0 1 2 3 4 5 6 7 8 \n",
      "ii. print the values\n",
      "-3000 -12 6 60 300 500 1000 3000 5000 \n",
      "iii. print the values\n",
      "-3000 -12 6 60 300 500 1000 3000 5000 "
     ]
    }
   ],
   "source": [
    "# multiplying all values \n",
    "print(\"i. print index\")\n",
    "for i in range(len(mylist)):\n",
    "    print(i,end=\" \")  # print index\n",
    "\n",
    "print(\"\\nii. print the values\")\n",
    "\n",
    "for i in range(len(mylist)):\n",
    "    print(mylist[i],end=' ') # print the values\n",
    "\n",
    "print(\"\\niii. print the values\")\n",
    "\n",
    "for i in mylist:\n",
    "    print(i,end=' ') # print the values"
   ]
  },
  {
   "cell_type": "code",
   "execution_count": 41,
   "id": "6b9690c5-59ca-40a8-a1e0-dc3190c2d308",
   "metadata": {},
   "outputs": [
    {
     "name": "stdout",
     "output_type": "stream",
     "text": [
      "29160000000000000000000\n"
     ]
    }
   ],
   "source": [
    "m  = 1 \n",
    "for i in mylist:\n",
    "    m=m*i\n",
    "print(m)"
   ]
  },
  {
   "cell_type": "code",
   "execution_count": 43,
   "id": "e96e8dfa-5b5c-4cf7-89af-239dcc95f190",
   "metadata": {},
   "outputs": [
    {
     "name": "stdout",
     "output_type": "stream",
     "text": [
      "index:  0  value:  -3000\n",
      "index:  1  value:  -12\n",
      "index:  2  value:  6\n",
      "index:  3  value:  60\n",
      "index:  4  value:  300\n",
      "index:  5  value:  500\n",
      "index:  6  value:  1000\n",
      "index:  7  value:  3000\n",
      "index:  8  value:  5000\n"
     ]
    }
   ],
   "source": [
    "# index and values in list\n",
    "for i in range(len(mylist)):\n",
    "    print('index: ',i,' value: ',mylist[i])"
   ]
  },
  {
   "cell_type": "code",
   "execution_count": 44,
   "id": "05dd4e73-29c4-4d0b-b729-b66ed3694ddf",
   "metadata": {},
   "outputs": [
    {
     "name": "stdout",
     "output_type": "stream",
     "text": [
      "Even :  -3000\n",
      "Even :  -12\n",
      "Even :  6\n",
      "Even :  60\n",
      "Even :  300\n",
      "Even :  500\n",
      "Even :  1000\n",
      "Even :  3000\n",
      "Even :  5000\n"
     ]
    }
   ],
   "source": [
    "# even/odd\n",
    "for i in mylist:\n",
    "    if i%2 == 0:\n",
    "        print('Even : ', i)\n",
    "    else: \n",
    "        print('Odd : ', i )\n",
    "    "
   ]
  },
  {
   "cell_type": "code",
   "execution_count": 45,
   "id": "ee3355a0-3a61-4fe9-9909-267c666ddc1d",
   "metadata": {},
   "outputs": [
    {
     "name": "stdout",
     "output_type": "stream",
     "text": [
      "[-3000, -12, 6, 60, 300, 500, 1000, 3000, 5000, True]\n"
     ]
    }
   ],
   "source": [
    "# appending True/False\n",
    "mylist.append(True)\n",
    "print(mylist) \n",
    "# now it will not support sort function or methods"
   ]
  },
  {
   "cell_type": "code",
   "execution_count": 46,
   "id": "6598d3b2-07e5-4bff-b778-f19f4d2f4fe2",
   "metadata": {},
   "outputs": [
    {
     "name": "stdout",
     "output_type": "stream",
     "text": [
      "['green', 'black', 'white', 'blue', 'pink']\n"
     ]
    }
   ],
   "source": [
    "# remove the color have alphabets<=3\n",
    "colors = ['red','green','black','white','blue','pink']\n",
    "for color in colors:\n",
    "    if len(color)<=3:\n",
    "        colors.remove(color)\n",
    "print(colors)"
   ]
  },
  {
   "cell_type": "code",
   "execution_count": 48,
   "id": "9f1aaa7e-b819-4c06-9eff-25da21479d4d",
   "metadata": {},
   "outputs": [
    {
     "name": "stdout",
     "output_type": "stream",
     "text": [
      "0 1 4 9 16 25 36 49 64 81 100 "
     ]
    }
   ],
   "source": [
    "# print squares from 0-10\n",
    "for i in range(0,11):\n",
    "    print(i**2,end=\" \")"
   ]
  },
  {
   "cell_type": "code",
   "execution_count": 52,
   "id": "37d34902-ec4a-414c-b765-9bbd084ed8a4",
   "metadata": {},
   "outputs": [
    {
     "name": "stdout",
     "output_type": "stream",
     "text": [
      "[1, 2, 3, 4, 11, 22, 33, 44, 111, 222, 333, 444]\n",
      "[1, 2, 3, 4, 1, 2, 3, 4, 1, 2, 3, 4, 1, 2, 3, 4, 1, 2, 3, 4]\n"
     ]
    }
   ],
   "source": [
    "# adding 2 list\n",
    "a = [1,2,3,4]\n",
    "b = [11,22,33,44]\n",
    "c = [111,222,333,444]\n",
    "print(a+b+c)  # will concatinate the list\n",
    "print(a*5)   # will print the list to n times"
   ]
  },
  {
   "cell_type": "code",
   "execution_count": null,
   "id": "836b620d-9512-4823-8356-df06563cf82d",
   "metadata": {},
   "outputs": [],
   "source": []
  }
 ],
 "metadata": {
  "kernelspec": {
   "display_name": "Python 3 (ipykernel)",
   "language": "python",
   "name": "python3"
  },
  "language_info": {
   "codemirror_mode": {
    "name": "ipython",
    "version": 3
   },
   "file_extension": ".py",
   "mimetype": "text/x-python",
   "name": "python",
   "nbconvert_exporter": "python",
   "pygments_lexer": "ipython3",
   "version": "3.12.7"
  }
 },
 "nbformat": 4,
 "nbformat_minor": 5
}
