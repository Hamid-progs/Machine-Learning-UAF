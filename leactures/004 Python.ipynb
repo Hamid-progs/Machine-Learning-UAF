{
 "cells": [
  {
   "cell_type": "markdown",
   "id": "ef5dd7cc-e02a-4400-a134-3360bd266bb4",
   "metadata": {},
   "source": [
    "# Python Lab <u>'Dictionaries'</u>"
   ]
  },
  {
   "cell_type": "markdown",
   "id": "5b8df40a-735c-4086-bbd4-0874baf7cd5d",
   "metadata": {},
   "source": [
    "1. D = {key : value}\n",
    "2. Dictionaries are type of Non SQL  datatype\n",
    "3. function:\n",
    "    1. update()\n",
    "    2. pop()\n",
    "    3. popitem()\n",
    "    4. keys()\n",
    "    5. values()\n",
    "   "
   ]
  },
  {
   "cell_type": "code",
   "execution_count": 1,
   "id": "70a46d67-bc70-4492-b067-702984375825",
   "metadata": {},
   "outputs": [
    {
     "name": "stdout",
     "output_type": "stream",
     "text": [
      "<class 'dict'>\n",
      "3\n"
     ]
    }
   ],
   "source": [
    "d = {'a':100, 'b':200, 'c':300}\n",
    "print(type(d))  # print type of d\n",
    "print(len(d))   # print len of d"
   ]
  },
  {
   "cell_type": "code",
   "execution_count": 2,
   "id": "99bfd6d6-0cf3-434d-b244-551bd0a6f721",
   "metadata": {},
   "outputs": [
    {
     "name": "stdout",
     "output_type": "stream",
     "text": [
      "dict_keys(['a', 'b', 'c'])\n"
     ]
    }
   ],
   "source": [
    "# print the keys! \n",
    "print(d.keys())"
   ]
  },
  {
   "cell_type": "code",
   "execution_count": 3,
   "id": "e2674ee9-e969-43c5-8476-5278a574dc35",
   "metadata": {},
   "outputs": [
    {
     "name": "stdout",
     "output_type": "stream",
     "text": [
      "dict_values([100, 200, 300])\n"
     ]
    }
   ],
   "source": [
    "# print the values! \n",
    "print(d.values())"
   ]
  },
  {
   "cell_type": "code",
   "execution_count": 4,
   "id": "205fcc27-78f3-4020-b716-1bf4e514578d",
   "metadata": {},
   "outputs": [
    {
     "name": "stdout",
     "output_type": "stream",
     "text": [
      "200\n"
     ]
    }
   ],
   "source": [
    "# print 200 from d\n",
    "print(d['b'])"
   ]
  },
  {
   "cell_type": "code",
   "execution_count": 5,
   "id": "ae501f03-8fbb-453d-baf1-80a37f122339",
   "metadata": {},
   "outputs": [
    {
     "name": "stdout",
     "output_type": "stream",
     "text": [
      "{'a': 100, 'b': 200, 'c': -3000}\n"
     ]
    }
   ],
   "source": [
    "# 1st Method of replace  c = 300 to -3000 \n",
    "d['c'] = -3000\n",
    "print(d)"
   ]
  },
  {
   "cell_type": "code",
   "execution_count": 6,
   "id": "e0098910-f3a6-417f-bc22-c356d835bf15",
   "metadata": {},
   "outputs": [
    {
     "name": "stdout",
     "output_type": "stream",
     "text": [
      "{'a': 100, 'b': 50000, 'c': -3000}\n"
     ]
    }
   ],
   "source": [
    "# 2nd Method to replacement \n",
    "d.update({'b':50000})\n",
    "print(d)"
   ]
  },
  {
   "cell_type": "code",
   "execution_count": 7,
   "id": "7c83d134-b542-4d81-a6e5-a7cbeeb67ca0",
   "metadata": {},
   "outputs": [
    {
     "name": "stdout",
     "output_type": "stream",
     "text": [
      "{'a': 100, 'b': 50000, 'c': -3000, 'd': 5000}\n"
     ]
    }
   ],
   "source": [
    "# add new key and its value \n",
    "d.update({'d':5000})\n",
    "print(d)"
   ]
  },
  {
   "cell_type": "code",
   "execution_count": 8,
   "id": "a31e025c-a789-46a2-baee-ceb7d1c04823",
   "metadata": {},
   "outputs": [
    {
     "name": "stdout",
     "output_type": "stream",
     "text": [
      "4\n"
     ]
    }
   ],
   "source": [
    "# print the length \n",
    "print(len(d))"
   ]
  },
  {
   "cell_type": "code",
   "execution_count": 9,
   "id": "11e00513-b534-4bec-ae2c-0178283fd8f0",
   "metadata": {},
   "outputs": [
    {
     "name": "stdout",
     "output_type": "stream",
     "text": [
      "{'a': 100, 'b': 50000, 'd': 5000}\n"
     ]
    }
   ],
   "source": [
    "# use of pop \n",
    "d.pop('c')   # it is must to pass argrment(which is a key)\n",
    "print(d)"
   ]
  },
  {
   "cell_type": "code",
   "execution_count": 10,
   "id": "3e923f5c-d120-4917-b3e0-1bb2d82d425b",
   "metadata": {},
   "outputs": [
    {
     "name": "stdout",
     "output_type": "stream",
     "text": [
      "{'a': 100, 'b': 50000}\n"
     ]
    }
   ],
   "source": [
    "# use of popitem\n",
    "d.popitem()\n",
    "print(d)"
   ]
  },
  {
   "cell_type": "code",
   "execution_count": 11,
   "id": "00ed2210-59b0-42b7-be25-be4ecaf9c635",
   "metadata": {},
   "outputs": [
    {
     "name": "stdout",
     "output_type": "stream",
     "text": [
      "3\n"
     ]
    }
   ],
   "source": [
    "# create a dictionary d1\n",
    "d1 = {'Name' : 'Hamid',\n",
    "     'age' : 20 ,\n",
    "     'cgpa' : [2.3,3.4,3.5]}\n",
    "print(len(d1))"
   ]
  },
  {
   "cell_type": "code",
   "execution_count": 13,
   "id": "174edc95-a09e-4c0a-8bed-33cd12e01e0c",
   "metadata": {},
   "outputs": [
    {
     "name": "stdout",
     "output_type": "stream",
     "text": [
      "[2.3, 3.4, 3.5]\n"
     ]
    }
   ],
   "source": [
    "# print the cgpa from d1 \n",
    "print(d1['cgpa'])"
   ]
  },
  {
   "cell_type": "code",
   "execution_count": 14,
   "id": "77211935-2d6f-4f43-a55f-d27e97d481af",
   "metadata": {},
   "outputs": [
    {
     "name": "stdout",
     "output_type": "stream",
     "text": [
      "3.4\n"
     ]
    }
   ],
   "source": [
    "# print cgpa at 1 index \n",
    "print(d1['cgpa'][1])"
   ]
  },
  {
   "cell_type": "code",
   "execution_count": 16,
   "id": "9a26648c-c5d5-4ab9-a7d4-8afd5998a8eb",
   "metadata": {},
   "outputs": [
    {
     "name": "stdout",
     "output_type": "stream",
     "text": [
      "3.5\n"
     ]
    }
   ],
   "source": [
    "# print cgpa of last index \n",
    "print(d1['cgpa'][-1])"
   ]
  },
  {
   "cell_type": "code",
   "execution_count": 17,
   "id": "024798ea-ac32-4587-8bfc-77d0a49ec856",
   "metadata": {},
   "outputs": [
    {
     "name": "stdout",
     "output_type": "stream",
     "text": [
      "[2.3, 3.4, 3.5, 3.8]\n"
     ]
    }
   ],
   "source": [
    "# add the cgpa 3.8\n",
    "d1['cgpa'].append(3.8)\n",
    "print(d1['cgpa'])"
   ]
  },
  {
   "cell_type": "code",
   "execution_count": 19,
   "id": "7aa11362-1cd3-491d-b142-22708a38342a",
   "metadata": {},
   "outputs": [
    {
     "name": "stdout",
     "output_type": "stream",
     "text": [
      "[2.3, 2.4, 3.5, 3.8]\n"
     ]
    }
   ],
   "source": [
    "# update cgpa at 1 index  as 2.4 \n",
    "d1['cgpa'][1] = 2.4\n",
    "print(d1['cgpa'])"
   ]
  },
  {
   "cell_type": "code",
   "execution_count": 20,
   "id": "f22a4f8f-ebfe-44f9-a6df-30812c1d3128",
   "metadata": {},
   "outputs": [
    {
     "name": "stdout",
     "output_type": "stream",
     "text": [
      "12.0\n",
      "3.0\n"
     ]
    }
   ],
   "source": [
    "# print sum of cgpa and also find its average \n",
    "print(sum(d1['cgpa']))\n",
    "print(sum(d1['cgpa'])/len(d1['cgpa']))"
   ]
  },
  {
   "cell_type": "code",
   "execution_count": 21,
   "id": "6cd65aa1-04db-427c-82b8-abd5fc5c7371",
   "metadata": {},
   "outputs": [
    {
     "name": "stdout",
     "output_type": "stream",
     "text": [
      "[2.3, 2.4, 3.8]\n"
     ]
    }
   ],
   "source": [
    "# drop/remove  3.5 cgpa \n",
    "d1['cgpa'].pop(2)\n",
    "print(d1['cgpa'])"
   ]
  },
  {
   "cell_type": "code",
   "execution_count": 24,
   "id": "547d4a90-9b79-433a-9afc-2ca1b5e8f74a",
   "metadata": {},
   "outputs": [],
   "source": [
    "d = {'A' : {'S1' : {'Name' : 'Hamid', 'Age' : 20, 'cgpa' : [2.1,3.4,3.5]},\n",
    "           'S2' : {'Name' : 'Ahmad', 'Age' : 20, 'cgpa' : [3.1,3.4,1.5]}\n",
    "           },\n",
    "    'B' : {'S1' : {'Name' : 'Hamid', 'Age' : 20, 'cgpa' : [2.1,3.4,3.5]},\n",
    "          'S2' : {'Name' : 'Ahmad', 'Age' : 20, 'cgpa' : [3.1,3.4,1.5]}\n",
    "          }}"
   ]
  },
  {
   "cell_type": "code",
   "execution_count": 26,
   "id": "f25d4677-95b1-46b4-8af4-19ee40f91149",
   "metadata": {},
   "outputs": [
    {
     "name": "stdout",
     "output_type": "stream",
     "text": [
      "1.5\n"
     ]
    }
   ],
   "source": [
    "# print the last cgpa of B group , S2\n",
    "print(d['B']['S2']['cgpa'][-1])"
   ]
  },
  {
   "cell_type": "code",
   "execution_count": 28,
   "id": "1080a03b-df02-4e80-a71f-99a1b84a90fd",
   "metadata": {},
   "outputs": [],
   "source": [
    "d = {'c1' : 'red',\n",
    "    'c2' : 'blue',\n",
    "    'c3' : 'black', \n",
    "    'c4' : 'green'}"
   ]
  },
  {
   "cell_type": "code",
   "execution_count": 29,
   "id": "96101165-5805-458a-804e-34132bb0a80d",
   "metadata": {},
   "outputs": [
    {
     "name": "stdout",
     "output_type": "stream",
     "text": [
      "red\n",
      "blue\n"
     ]
    }
   ],
   "source": [
    "for k,v in d.items():\n",
    "    if(len(v)<=4):\n",
    "        print(v)"
   ]
  },
  {
   "cell_type": "code",
   "execution_count": 31,
   "id": "9f2702a2-ca07-425a-8db2-0119f118eeee",
   "metadata": {},
   "outputs": [
    {
     "name": "stdout",
     "output_type": "stream",
     "text": [
      "red\n",
      "blue\n",
      "black\n",
      "green\n"
     ]
    }
   ],
   "source": [
    "for k,v in d.items():\n",
    "    if 'r' in v or 'b' in v:\n",
    "        print(v)"
   ]
  }
 ],
 "metadata": {
  "kernelspec": {
   "display_name": "Python 3 (ipykernel)",
   "language": "python",
   "name": "python3"
  },
  "language_info": {
   "codemirror_mode": {
    "name": "ipython",
    "version": 3
   },
   "file_extension": ".py",
   "mimetype": "text/x-python",
   "name": "python",
   "nbconvert_exporter": "python",
   "pygments_lexer": "ipython3",
   "version": "3.12.7"
  }
 },
 "nbformat": 4,
 "nbformat_minor": 5
}
