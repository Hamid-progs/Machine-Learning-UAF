{
 "cells": [
  {
   "cell_type": "markdown",
   "id": "d0f45871-d2b6-4675-99ae-91868e92177d",
   "metadata": {},
   "source": [
    "## Conditional statements (if - elif - else) "
   ]
  },
  {
   "cell_type": "code",
   "execution_count": 6,
   "id": "bdd9375e-6478-4d8c-a4f4-97452b83863a",
   "metadata": {},
   "outputs": [
    {
     "name": "stdout",
     "output_type": "stream",
     "text": [
      "A is Positive number!\n"
     ]
    }
   ],
   "source": [
    "# 1\n",
    "a = 45\n",
    "if a > 0: \n",
    "    print(\"A is Positive number!\")\n",
    "elif a < 0: \n",
    "    print(\"A is a negitive number!\")\n",
    "else:\n",
    "    print(\"A is a Zero\")"
   ]
  },
  {
   "cell_type": "code",
   "execution_count": 18,
   "id": "f1c2c339-32cb-41db-9244-9da5b12b3125",
   "metadata": {},
   "outputs": [
    {
     "name": "stdin",
     "output_type": "stream",
     "text": [
      "Enter a Number:  32\n"
     ]
    },
    {
     "name": "stdout",
     "output_type": "stream",
     "text": [
      "Positive\n",
      "Even!\n"
     ]
    }
   ],
   "source": [
    "# 2\n",
    "a = int(input(\"Enter a Number: \"))\n",
    "if a % 2 == 0:\n",
    "    if a > 0:\n",
    "        print(\"Positive\")\n",
    "    elif a < 0 :\n",
    "        print(\"Negitive!\")\n",
    "    else:\n",
    "        print(\"It is Zero\")\n",
    "    print(\"Even!\")\n",
    "else:\n",
    "    if a > 0:\n",
    "        print(\"Positive\")\n",
    "    elif a < 0 :\n",
    "        print(\"Negitive!\")\n",
    "    print('Odd!')"
   ]
  },
  {
   "cell_type": "markdown",
   "id": "fb8a78e2-8bac-47be-9a96-98884cd1bbe9",
   "metadata": {},
   "source": [
    "### Problem 1:\n",
    "1. age between 1 to 14 print  child \n",
    "2. age between 15 to 24 print student \n",
    "3. age between 25 to 100 print employee \n",
    "4. Negitive age!!!"
   ]
  },
  {
   "cell_type": "code",
   "execution_count": 30,
   "id": "f6409771-ec07-4dd8-8192-8924998f16f1",
   "metadata": {},
   "outputs": [
    {
     "name": "stdin",
     "output_type": "stream",
     "text": [
      "Enter Age:  25\n"
     ]
    },
    {
     "name": "stdout",
     "output_type": "stream",
     "text": [
      "Employee!\n"
     ]
    }
   ],
   "source": [
    "age = int(input(\"Enter Age: \"))\n",
    "if age >= 1 and age <= 14:\n",
    "    print(\"Child!\")\n",
    "elif age >= 15 and age <=24:\n",
    "    print(\"Student!\")\n",
    "elif age >= 25 and age <= 100:\n",
    "    print(\"Employee!\")\n",
    "else:\n",
    "    print(\"INVALID AGE!\")"
   ]
  },
  {
   "cell_type": "markdown",
   "id": "4764cd62-6a50-435e-91bc-f2a39df82e8b",
   "metadata": {},
   "source": [
    "## Loops"
   ]
  },
  {
   "cell_type": "code",
   "execution_count": 31,
   "id": "74020f7d-6d0c-4285-bc12-9a77ec4a6541",
   "metadata": {},
   "outputs": [
    {
     "name": "stdout",
     "output_type": "stream",
     "text": [
      "0\n",
      "1\n",
      "2\n",
      "3\n",
      "4\n",
      "5\n",
      "6\n",
      "7\n",
      "8\n",
      "9\n",
      "10\n"
     ]
    }
   ],
   "source": [
    "# 1\n",
    "for i in range(11):\n",
    "    print(i)"
   ]
  },
  {
   "cell_type": "code",
   "execution_count": 45,
   "id": "e822c595-8500-4f93-a690-208b960ee54f",
   "metadata": {},
   "outputs": [
    {
     "name": "stdout",
     "output_type": "stream",
     "text": [
      "-19 -17 -15 -13 -11 -9 -7 -5 -3 -1 1 3 5 7 9 "
     ]
    }
   ],
   "source": [
    "# 2\n",
    "a = -19\n",
    "while a <= 10:\n",
    "    print(a,end=' ')\n",
    "    a = a +2"
   ]
  },
  {
   "cell_type": "code",
   "execution_count": 56,
   "id": "de3c0ae7-7a3e-4c82-a4fb-047980500334",
   "metadata": {},
   "outputs": [
    {
     "name": "stdin",
     "output_type": "stream",
     "text": [
      "Enter a Number for tabel:  2\n",
      "Enter a Numbe for table range:  5\n"
     ]
    },
    {
     "name": "stdout",
     "output_type": "stream",
     "text": [
      "2  x  1  =  2\n",
      "2  x  2  =  4\n",
      "2  x  3  =  6\n",
      "2  x  4  =  8\n",
      "2  x  5  =  10\n"
     ]
    }
   ],
   "source": [
    "# 3\n",
    "n = int(input(\"Enter a Number for tabel: \"))\n",
    "m = int(input(\"Enter a Numbe for table range: \"))\n",
    "i = 1\n",
    "while i <= m:\n",
    "    print(n,\" x \",i,\" = \",n*i)\n",
    "    i += 1"
   ]
  },
  {
   "cell_type": "code",
   "execution_count": 62,
   "id": "9514cccc-0aff-43e7-a734-a18290921de7",
   "metadata": {},
   "outputs": [
    {
     "name": "stdout",
     "output_type": "stream",
     "text": [
      "*\n",
      "**\n",
      "***\n",
      "****\n",
      "*****\n"
     ]
    }
   ],
   "source": [
    "# 4\n",
    "i = 1 \n",
    "while i <= 5:\n",
    "    j = 0\n",
    "    while j < i:\n",
    "        print(\"*\",end=\"\")\n",
    "        j += 1\n",
    "    print()\n",
    "    i += 1"
   ]
  },
  {
   "cell_type": "code",
   "execution_count": 70,
   "id": "c0f2d30e-441e-4e75-8279-28db8fcc475f",
   "metadata": {},
   "outputs": [
    {
     "name": "stdout",
     "output_type": "stream",
     "text": [
      "1 4 7 "
     ]
    }
   ],
   "source": [
    "# 5\n",
    "for i in range(1,8,3):\n",
    "    print(i,end=' ')"
   ]
  },
  {
   "cell_type": "code",
   "execution_count": null,
   "id": "b3a2ba55-ac13-44d1-9e19-e21c5a12beda",
   "metadata": {},
   "outputs": [],
   "source": []
  }
 ],
 "metadata": {
  "kernelspec": {
   "display_name": "Python 3 (ipykernel)",
   "language": "python",
   "name": "python3"
  },
  "language_info": {
   "codemirror_mode": {
    "name": "ipython",
    "version": 3
   },
   "file_extension": ".py",
   "mimetype": "text/x-python",
   "name": "python",
   "nbconvert_exporter": "python",
   "pygments_lexer": "ipython3",
   "version": "3.12.7"
  }
 },
 "nbformat": 4,
 "nbformat_minor": 5
}
